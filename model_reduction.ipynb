{
 "metadata": {
  "name": "",
  "signature": "sha256:7d3b56579467a9e6ae6ca5942ebac57262ee9949f48391454082b90fffd6cb2e"
 },
 "nbformat": 3,
 "nbformat_minor": 0,
 "worksheets": [
  {
   "cells": [
    {
     "cell_type": "code",
     "collapsed": false,
     "input": [
      "import os\n",
      "import math\n",
      "import numpy\n",
      "import timeit\n",
      "import socket\n",
      "import datetime\n",
      "from pylab import *\n",
      "import numpy.linalg as LA\n",
      "from numpy.linalg import norm\n",
      "import matplotlib.pyplot as plt\n",
      "\n",
      "#----------------------------Application Specific Imports-----------------------------------------\n",
      "import brake\n",
      "import createBrakeClassObject\n",
      "from brake.initialize import load, assemble, scale, diagscale, unlinearize\n",
      "from brake.solve import projection, traditionalProjection, solver, qevp\n",
      "from brake.analyze import residual, visual\n",
      "%matplotlib inline"
     ],
     "language": "python",
     "metadata": {},
     "outputs": [],
     "prompt_number": 1
    },
    {
     "cell_type": "code",
     "collapsed": false,
     "input": [
      "#----------------------------Create Object with no logging ---------------------------------------\n",
      "logLevel = 0\n",
      "omegaRef=1.0\n",
      "obj = createBrakeClassObject.returnObject(logLevel,omegaRef)"
     ],
     "language": "python",
     "metadata": {},
     "outputs": [
      {
       "output_type": "stream",
       "stream": "stderr",
       "text": [
        "INFO:info_logger:The current level of logging is 0\n"
       ]
      },
      {
       "output_type": "stream",
       "stream": "stderr",
       "text": [
        "INFO:info_logger:To enable detailed logging set log level to non zero during object creation:\n"
       ]
      },
      {
       "output_type": "stream",
       "stream": "stderr",
       "text": [
        "INFO:info_logger:Set log level = 10(debug mode), log level = 20(info mode)\n"
       ]
      },
      {
       "output_type": "stream",
       "stream": "stderr",
       "text": [
        "INFO:info_logger:The Info Data is logged in the file : /homes/numerik/quraishi/work/paperprojects/brake_squeel_project/ProblemData/Matrix/5kOmegaRef1/Mar05/info_Mar05.log\n"
       ]
      },
      {
       "output_type": "stream",
       "stream": "stderr",
       "text": [
        "INFO:info_logger:The Time Data is logged in the file : /homes/numerik/quraishi/work/paperprojects/brake_squeel_project/ProblemData/Matrix/5kOmegaRef1/Mar05/time_Mar05.log\n"
       ]
      },
      {
       "output_type": "stream",
       "stream": "stderr",
       "text": [
        "INFO:time_logger:The current level of logging is 0\n"
       ]
      },
      {
       "output_type": "stream",
       "stream": "stderr",
       "text": [
        "INFO:time_logger:To enable detailed logging set log level to non zero during object creation\n"
       ]
      },
      {
       "output_type": "stream",
       "stream": "stderr",
       "text": [
        "INFO:time_logger:Set log level = 10(debug mode), log level = 20(info mode)\n"
       ]
      },
      {
       "output_type": "stream",
       "stream": "stderr",
       "text": [
        "INFO:time_logger:The Info Data is logged in the file : /homes/numerik/quraishi/work/paperprojects/brake_squeel_project/ProblemData/Matrix/5kOmegaRef1/Mar05/info_Mar05.log\n"
       ]
      },
      {
       "output_type": "stream",
       "stream": "stderr",
       "text": [
        "INFO:time_logger:The Time Data is logged in the file : /homes/numerik/quraishi/work/paperprojects/brake_squeel_project/ProblemData/Matrix/5kOmegaRef1/Mar05/time_Mar05.log\n"
       ]
      },
      {
       "output_type": "stream",
       "stream": "stdout",
       "text": [
        "Working on : laplace computer\n",
        "\n",
        " Input Path: /homes/numerik/quraishi/work/paperprojects/brake_squeel_project/ProblemData/Matrix/5kOmegaRef1/\n",
        "\n",
        " Output Path: /homes/numerik/quraishi/work/paperprojects/brake_squeel_project/ProblemData/Matrix/5kOmegaRef1/\n"
       ]
      }
     ],
     "prompt_number": 2
    },
    {
     "cell_type": "code",
     "collapsed": false,
     "input": [
      "####################################################################\n",
      "####################################################################\n",
      "####################### Exact Eigenvalues ##########################\n",
      "####################################################################\n",
      "####################################################################\n",
      "\n",
      "#Calculating exact eigenpairs of the QEVP for omega = omegaTest in the target region\n",
      "#--------------------------------------------------------------------------------------------------\n",
      "print '\\n\\n----------------------------------------------------------------------------------------'\n",
      "print \"\\n\"+\"\\n\"+'Calculating exact eigenpairs of the QEVP for omega = '+str(obj.omegaTest/(2*math.pi))+' in the target region \\n'\n",
      "laExact, evecExact = qevp.brake_squeal_qevp(obj, 1, obj.omegaTest)\n",
      "#Extracting the eigenvalues and the corresponding eigenvectors that lie in the target region\n",
      "laTarget, evecTarget = brake.extractEigs(obj, laExact, evecExact, 'target')\n",
      "deltaTarget = numpy.zeros(laTarget.shape[0],dtype=numpy.float64)\n",
      "\n",
      "\n",
      "#Obtaining the original M,C,K matrices for the test omega\n",
      "sparse_list = load.load_matrices(obj)\n",
      "M_orig, C_orig, K_orig = assemble.create_MCK(obj, sparse_list, obj.omegaTest)"
     ],
     "language": "python",
     "metadata": {},
     "outputs": [
      {
       "output_type": "stream",
       "stream": "stdout",
       "text": [
        "\n",
        "\n",
        "----------------------------------------------------------------------------------------\n",
        "\n",
        "\n",
        "Calculating exact eigenpairs of the QEVP for omega = 2.0 in the target region \n",
        "\n",
        "('Eigenvalues for shift', 1, '=', (495+5975j), ' and frequency', 1, '=', '12.57', 'are')"
       ]
      },
      {
       "output_type": "stream",
       "stream": "stdout",
       "text": [
        "\n",
        "('5.474e+00', '+', '4.932e+03', 'I')\n",
        "('9.587e-05', '+', '5.131e+03', 'I')\n",
        "('-4.333e-02', '+', '1.009e+04', 'I')\n",
        "('-1.122e+00', '+', '1.409e+03', 'I')\n",
        "('-1.433e+00', '+', '3.521e+03', 'I')\n",
        "('-1.834e+00', '+', '3.337e+03', 'I')\n",
        "('-2.367e+00', '+', '4.038e+03', 'I')\n"
       ]
      },
      {
       "metadata": {},
       "output_type": "display_data",
       "png": "[encoded data removed]",
       "text": [
        "<matplotlib.figure.Figure at 0x2ab7b81a8050>"
       ]
      }
     ],
     "prompt_number": 3
    },
    {
     "cell_type": "code",
     "collapsed": false,
     "input": [
      "laExact"
     ],
     "language": "python",
     "metadata": {},
     "outputs": [
      {
       "metadata": {},
       "output_type": "pyout",
       "prompt_number": 8,
       "text": [
        "array([  9.58716031e-05 +5130.60486524j,   5.47417370e+00 +4932.23886717j,\n",
        "        -1.71046994e+01 +4885.81129845j,  -8.73251412e+01 +7892.84524543j,\n",
        "        -2.36692038e+00 +4038.35452532j,  -1.43308515e+00 +3521.4703869j ,\n",
        "        -1.83356496e+00 +3336.6724758j ,  -1.19617660e+02 +2898.87059538j,\n",
        "        -1.12227825e+00 +1409.1636257j ,  -4.33304794e-02+10094.70737872j,\n",
        "        -1.90028115e+01+10244.4362793j ,  -5.15432650e+02+10896.0962224j ,\n",
        "        -1.12227825e+00 -1409.16362571j,  -1.19617660e+02 -2898.87059538j,\n",
        "        -1.83356496e+00 -3336.6724758j ,  -1.43308515e+00 -3521.4703869j ,\n",
        "        -3.57206389e+01+16342.17635538j,  -1.91313267e+00+16339.22111164j,\n",
        "        -2.36692038e+00 -4038.35452532j,  -1.71046994e+01 -4885.81129845j,\n",
        "         5.47417370e+00 -4932.23886717j,   9.58716010e-05 -5130.60486524j,\n",
        "         7.48306425e+01+17399.58775274j,  -6.97967895e+01+17653.37358177j,\n",
        "        -1.39348575e+02+17554.06336745j,  -7.65429302e+02+19624.38249365j,\n",
        "        -8.73251412e+01 -7892.84524543j,  -9.06964758e+01+21115.72417329j,\n",
        "        -2.30570041e+03+21436.67068709j,  -1.50639299e+03+21621.49494982j,\n",
        "        -7.35522198e+01+22576.9869695j ,  -6.57088195e+00+22889.57175465j,\n",
        "        -4.33304794e-02-10094.70737872j,  -1.90028115e+01-10244.4362793j ,\n",
        "        -5.15432650e+02-10896.0962224j ,   1.19176489e+02+26257.96348711j,\n",
        "        -1.71408424e+02+26589.88816206j,  -3.76684369e+03+27070.55559495j,\n",
        "        -3.57206389e+01-16342.17635538j,  -1.91313267e+00-16339.22111164j,\n",
        "        -2.09044654e+03+27508.43795627j,  -3.56036870e+01+28850.88237753j,\n",
        "        -1.07346276e+02+28412.18673014j,  -7.06442074e+01+28528.65981035j,\n",
        "        -1.85430082e+01+28536.74661617j,   7.48306425e+01-17399.58775274j,\n",
        "        -1.39348575e+02-17554.06336744j,  -6.97967895e+01-17653.37358177j,\n",
        "        -1.76284202e+03+29860.14333141j,  -5.52690713e+03+30072.73256133j])"
       ]
      }
     ],
     "prompt_number": 8
    },
    {
     "cell_type": "code",
     "collapsed": false,
     "input": [
      "laTarget"
     ],
     "language": "python",
     "metadata": {},
     "outputs": [
      {
       "metadata": {},
       "output_type": "pyout",
       "prompt_number": 10,
       "text": [
        "array([  9.58716031e-05 +5130.60486524j,   5.47417370e+00 +4932.23886717j,\n",
        "        -2.36692038e+00 +4038.35452532j,  -1.43308515e+00 +3521.4703869j ,\n",
        "        -1.83356496e+00 +3336.6724758j ,  -1.12227825e+00 +1409.1636257j ,\n",
        "        -4.33304794e-02+10094.70737872j])"
       ]
      }
     ],
     "prompt_number": 10
    },
    {
     "cell_type": "code",
     "collapsed": false,
     "input": [
      "fig,axes=plt.subplots(nrows=1,ncols=4)\n",
      "fignum=0\n",
      "for ax in axes:    \n",
      "    ax.spy(sparse_list[fignum])\n",
      "    fignum=fignum+1\n",
      "\n",
      "fig,axes=plt.subplots(nrows=1,ncols=4)\n",
      "for ax in axes:    \n",
      "    ax.spy(sparse_list[fignum])\n",
      "    fignum=fignum+1"
     ],
     "language": "python",
     "metadata": {},
     "outputs": [
      {
       "metadata": {},
       "output_type": "display_data",
       "png": "[encoded data removed]",
       "text": [
        "<matplotlib.figure.Figure at 0x2ab7b81fe690>"
       ]
      },
      {
       "metadata": {},
       "output_type": "display_data",
       "png": "[encoded data removed]",
       "text": [
        "<matplotlib.figure.Figure at 0x2ab7b8f29dd0>"
       ]
      }
     ],
     "prompt_number": 4
    },
    {
     "cell_type": "code",
     "collapsed": false,
     "input": [],
     "language": "python",
     "metadata": {},
     "outputs": [],
     "prompt_number": 4
    },
    {
     "cell_type": "code",
     "collapsed": false,
     "input": [
      "####################################################################\n",
      "####################################################################\n",
      "####################### Traditional Projection #######################\n",
      "####################################################################\n",
      "####################################################################\n",
      "print '\\n\\nObtaining the traditional projection matrix'\n",
      "la, evec = traditionalProjection.Obtain_eigs(obj,150)\n",
      "XTraditional = numpy.concatenate((evec.real,evec.imag), axis=1)\n",
      "print '\\nTraditional Projection with size of measurment matrix = '+str(XTraditional.shape)\n",
      "#Setting Dimension of the projection matrix\n",
      "obj.projectionDimension = 300\n",
      "Q, singularValues = projection.obtain_projection_matrix(obj,XTraditional)\n",
      "QT = Q.T.conjugate()\n",
      "M =  QT.dot(M_orig.dot(Q))\n",
      "C =  QT.dot(C_orig.dot(Q))\n",
      "K =  QT.dot(K_orig.dot(Q))\n",
      "print 'Projected the QEVP having dimension '+str(M_orig.shape)+' onto a smaller subspace of dimension '+str(M.shape[1])\n",
      "n = M.shape[0]\n",
      "no_of_evs = 2*n-2;\n",
      "laTraditional, evecTraditional = solver.qev_dense(obj,M,C,K,no_of_evs)\n",
      "evecTraditional = unlinearize.unlinearize_matrices(evecTraditional)\n",
      "\n",
      "#print '\\n\\n\\nCalculating Delta'\n",
      "deltaTraditional = numpy.zeros(laTraditional.shape[0],dtype=numpy.float64)\n",
      "for itr in range(0,len(laTraditional)):\n",
      "\tdeltaTraditional[itr] = numpy.min(numpy.absolute(laTraditional[itr]-laTarget))/numpy.max(numpy.absolute(laTarget))"
     ],
     "language": "python",
     "metadata": {},
     "outputs": [
      {
       "output_type": "stream",
       "stream": "stdout",
       "text": [
        "\n",
        "\n",
        "Obtaining the traditional projection matrix\n",
        "Calculating eigenpairs of the QEVP corressponding to the Traditional Projection"
       ]
      },
      {
       "output_type": "stream",
       "stream": "stdout",
       "text": [
        "\n",
        "('2.092e-11', '+', '1.088e+04', 'I')\n",
        "('1.000e-11', '+', '2.893e+03', 'I')\n",
        "('9.948e-12', '+', '3.337e+03', 'I')\n",
        "('7.731e-12', '+', '1.409e+03', 'I')\n",
        "('5.684e-12', '+', '3.521e+03', 'I')\n",
        "('3.013e-12', '+', '4.906e+03', 'I')\n",
        "('2.672e-12', '+', '4.910e+03', 'I')\n",
        "('2.558e-12', '+', '4.038e+03', 'I')\n",
        "('2.046e-12', '+', '5.131e+03', 'I')\n",
        "('-1.194e-12', '+', '7.891e+03', 'I')\n",
        "('-7.674e-12', '+', '1.010e+04', 'I')\n",
        "('-8.015e-12', '+', '1.023e+04', 'I')\n",
        "largest real part of obtained eigenvalue =  1.7423076315e-09\n",
        "\n",
        "Traditional Projection with size of measurment matrix = (4669, 300)\n",
        "\n",
        "Extracted 300 significant singular values from 300 to obtain projection matrix of dimension (4669, 300)"
       ]
      },
      {
       "output_type": "stream",
       "stream": "stdout",
       "text": [
        "\n",
        "Projected the QEVP having dimension (4669, 4669) onto a smaller subspace of dimension 300"
       ]
      },
      {
       "output_type": "stream",
       "stream": "stdout",
       "text": [
        "\n"
       ]
      }
     ],
     "prompt_number": 5
    },
    {
     "cell_type": "code",
     "collapsed": false,
     "input": [
      "####################################################################\n",
      "####################################################################\n",
      "####################### POD Approach ###############################\n",
      "####################################################################\n",
      "####################################################################\n",
      "print '\\n\\nObtaining the POD projection matrix'\n",
      "print '\\nCreating the Measurment Matrix for wset3'\n",
      "obj.evs_per_shift = 17\n",
      "obj.omega_basis = numpy.array([1,2.5,5,7.5,10,12.5,15,17.5,20])*2*math.pi\n",
      "X_wset3 = projection.obtain_measurment_matrix(obj)\n",
      "print '\\nPOD Projection with size of measurment matrix = '+str(X_wset3.shape)\n",
      "#Setting Dimension of the projection matrix\n",
      "obj.projectionDimension = 300\n",
      "Q, singularValues = projection.obtain_projection_matrix(obj,X_wset3)\n",
      "QT = Q.T.conjugate()\n",
      "M =  QT.dot(M_orig.dot(Q))\n",
      "C =  QT.dot(C_orig.dot(Q))\n",
      "K =  QT.dot(K_orig.dot(Q))\n",
      "print 'Projected the QEVP having dimension '+str(M_orig.shape)+' onto a smaller subspace of dimension '+str(M.shape[1])\n",
      "n = M.shape[0]\n",
      "no_of_evs = 2*n-2;\n",
      "laPOD, evecPOD = solver.qev_dense(obj,M,C,K,no_of_evs)\n",
      "evecPOD = unlinearize.unlinearize_matrices(evecPOD)\n",
      "\n",
      "#print '\\n\\n\\nCalculating Delta'\n",
      "deltaPOD = numpy.zeros(laPOD.shape[0],dtype=numpy.float64)\n",
      "for itr in range(0,len(laPOD)):\n",
      "\tdeltaPOD[itr] = numpy.min(numpy.absolute(laPOD[itr]-laTarget))/numpy.max(numpy.absolute(laTarget))"
     ],
     "language": "python",
     "metadata": {},
     "outputs": [
      {
       "output_type": "stream",
       "stream": "stdout",
       "text": [
        "\n",
        "\n",
        "Obtaining the POD projection matrix\n",
        "\n",
        "Creating the Measurment Matrix for wset3\n",
        "('Eigenvalues for shift', 1, '=', (495+5975j), ' and frequency', 1, '=', '6.28', 'are')"
       ]
      },
      {
       "output_type": "stream",
       "stream": "stdout",
       "text": [
        "\n",
        "('2.076e+00', '+', '4.920e+03', 'I')\n",
        "('-2.397e-05', '+', '5.131e+03', 'I')\n",
        "('-1.486e+00', '+', '3.337e+03', 'I')\n",
        "('-2.120e+00', '+', '1.409e+03', 'I')\n",
        "('-3.804e+00', '+', '3.521e+03', 'I')\n",
        "('-4.146e+00', '+', '4.039e+03', 'I')\n",
        "('-9.838e+00', '+', '1.011e+04', 'I')\n",
        "('Eigenvalues for shift', 1, '=', (495+5975j), ' and frequency', 2, '=', '15.71', 'are')"
       ]
      },
      {
       "output_type": "stream",
       "stream": "stdout",
       "text": [
        "\n",
        "('6.174e+00', '+', '4.938e+03', 'I')\n",
        "('2.969e+00', '+', '1.009e+04', 'I')\n",
        "('1.223e-04', '+', '5.131e+03', 'I')\n",
        "('-7.957e-01', '+', '3.522e+03', 'I')\n",
        "('-9.125e-01', '+', '1.409e+03', 'I')\n",
        "('-1.985e+00', '+', '4.038e+03', 'I')\n",
        "('-2.059e+00', '+', '3.336e+03', 'I')\n",
        "('Eigenvalues for shift', 1, '=', (495+5975j), ' and frequency', 3, '=', '31.42', 'are')"
       ]
      },
      {
       "output_type": "stream",
       "stream": "stdout",
       "text": [
        "\n",
        "('1.053e+01', '+', '1.006e+04', 'I')\n",
        "('7.401e+00', '+', '4.967e+03', 'I')\n",
        "('1.146e+00', '+', '3.525e+03', 'I')\n",
        "('1.858e-04', '+', '5.131e+03', 'I')\n",
        "('-4.503e-01', '+', '1.409e+03', 'I')\n",
        "('-1.113e+00', '+', '4.038e+03', 'I')\n",
        "('-3.240e+00', '+', '3.333e+03', 'I')\n",
        "('Eigenvalues for shift', 1, '=', (495+5975j), ' and frequency', 4, '=', '47.12', 'are')"
       ]
      },
      {
       "output_type": "stream",
       "stream": "stdout",
       "text": [
        "\n",
        "('1.309e+01', '+', '1.002e+04', 'I')\n",
        "('7.618e+00', '+', '4.997e+03', 'I')\n",
        "('2.405e+00', '+', '3.530e+03', 'I')\n",
        "('2.177e-04', '+', '5.131e+03', 'I')\n",
        "('-2.499e-01', '+', '1.409e+03', 'I')\n",
        "('-7.016e-01', '+', '4.038e+03', 'I')\n",
        "('-4.329e+00', '+', '3.329e+03', 'I')\n",
        "('Eigenvalues for shift', 1, '=', (495+5975j), ' and frequency', 5, '=', '62.83', 'are')"
       ]
      },
      {
       "output_type": "stream",
       "stream": "stdout",
       "text": [
        "\n",
        "('1.408e+01', '+', '9.976e+03', 'I')\n",
        "('7.591e+00', '+', '5.026e+03', 'I')\n",
        "('3.357e+00', '+', '3.537e+03', 'I')\n",
        "('2.404e-04', '+', '5.131e+03', 'I')\n",
        "('-1.150e-01', '+', '1.409e+03', 'I')\n",
        "('-4.041e-01', '+', '4.039e+03', 'I')\n",
        "('-5.260e+00', '+', '3.322e+03', 'I')\n",
        "('Eigenvalues for shift', 1, '=', (495+5975j), ' and frequency', 6, '=', '78.54', 'are')"
       ]
      },
      {
       "output_type": "stream",
       "stream": "stdout",
       "text": [
        "\n",
        "('1.444e+01', '+', '9.934e+03', 'I')\n",
        "('7.469e+00', '+', '5.056e+03', 'I')\n",
        "('4.085e+00', '+', '3.545e+03', 'I')\n",
        "('2.564e-04', '+', '5.131e+03', 'I')\n",
        "('-6.486e-03', '+', '1.409e+03', 'I')\n",
        "('-1.504e-01', '+', '4.039e+03', 'I')\n",
        "('-6.029e+00', '+', '3.315e+03', 'I')\n",
        "('Eigenvalues for shift', 1, '=', (495+5975j), ' and frequency', 7, '=', '94.25', 'are')"
       ]
      },
      {
       "output_type": "stream",
       "stream": "stdout",
       "text": [
        "\n",
        "('1.451e+01', '+', '9.892e+03', 'I')\n",
        "('7.299e+00', '+', '5.086e+03', 'I')\n",
        "('4.638e+00', '+', '3.554e+03', 'I')\n",
        "('8.896e-02', '+', '1.409e+03', 'I')\n",
        "('8.346e-02', '+', '4.039e+03', 'I')\n",
        "('2.607e-04', '+', '5.131e+03', 'I')\n",
        "('-6.652e+00', '+', '3.306e+03', 'I')\n",
        "('Eigenvalues for shift', 1, '=', (495+5975j), ' and frequency', 8, '=', '109.96', 'are')"
       ]
      },
      {
       "output_type": "stream",
       "stream": "stdout",
       "text": [
        "\n",
        "('1.443e+01', '+', '9.849e+03', 'I')\n",
        "('7.104e+00', '+', '5.116e+03', 'I')\n",
        "('5.051e+00', '+', '3.565e+03', 'I')\n",
        "('3.080e-01', '+', '4.039e+03', 'I')\n",
        "('1.769e-01', '+', '1.409e+03', 'I')\n",
        "('2.131e-04', '+', '5.131e+03', 'I')\n",
        "('-7.154e+00', '+', '3.297e+03', 'I')\n",
        "('Eigenvalues for shift', 1, '=', (495+5975j), ' and frequency', 9, '=', '125.66', 'are')"
       ]
      },
      {
       "output_type": "stream",
       "stream": "stdout",
       "text": [
        "\n",
        "('1.426e+01', '+', '9.806e+03', 'I')\n",
        "('6.892e+00', '+', '5.146e+03', 'I')\n",
        "('5.354e+00', '+', '3.575e+03', 'I')\n",
        "('5.290e-01', '+', '4.039e+03', 'I')\n",
        "('2.602e-01', '+', '1.409e+03', 'I')\n",
        "('4.790e-04', '+', '5.131e+03', 'I')\n",
        "('-7.557e+00', '+', '3.287e+03', 'I')\n",
        "\n",
        "POD Projection with size of measurment matrix = (4669, 306)"
       ]
      },
      {
       "output_type": "stream",
       "stream": "stdout",
       "text": [
        "\n",
        "\n",
        "Extracted 300 significant singular values from 306 to obtain projection matrix of dimension (4669, 300)"
       ]
      },
      {
       "output_type": "stream",
       "stream": "stdout",
       "text": [
        "\n",
        "Projected the QEVP having dimension (4669, 4669) onto a smaller subspace of dimension 300"
       ]
      },
      {
       "output_type": "stream",
       "stream": "stdout",
       "text": [
        "\n"
       ]
      },
      {
       "metadata": {},
       "output_type": "display_data",
       "png": "[encoded data removed]",
       "text": [
        "<matplotlib.figure.Figure at 0x2ab7b93538d0>"
       ]
      }
     ],
     "prompt_number": 6
    },
    {
     "cell_type": "code",
     "collapsed": false,
     "input": [
      "laTarget"
     ],
     "language": "python",
     "metadata": {},
     "outputs": [
      {
       "metadata": {},
       "output_type": "pyout",
       "prompt_number": 9,
       "text": [
        "array([  9.58716031e-05 +5130.60486524j,   5.47417370e+00 +4932.23886717j,\n",
        "        -2.36692038e+00 +4038.35452532j,  -1.43308515e+00 +3521.4703869j ,\n",
        "        -1.83356496e+00 +3336.6724758j ,  -1.12227825e+00 +1409.1636257j ,\n",
        "        -4.33304794e-02+10094.70737872j])"
       ]
      }
     ],
     "prompt_number": 9
    },
    {
     "cell_type": "code",
     "collapsed": false,
     "input": [
      "fig = plt.figure(figsize=(16.0, 10.0))\n",
      "ax = plt.gca()\n",
      "minLim = min(deltaPOD)\n",
      "maxLim = pow(10,-5)\n",
      "xWidth = max(laTarget.real)-min(laTarget.real)\n",
      "yWidth = max(laTarget.imag)-min(laTarget.imag)\n",
      "ax.set_xlim((min(laTarget.real)-0.1*xWidth,max(laTarget.real)+0.1*xWidth))\n",
      "ax.set_ylim((min(laTarget.imag)-0.1*yWidth,max(laTarget.imag)+0.1*yWidth))\n",
      "plt.axhline(0, color='blue')\n",
      "plt.axvline(0, color='blue')\n",
      "hdl = plt.scatter(laTarget.real, laTarget.imag, s=10, c=deltaTarget, marker='o', vmin=minLim, vmax=maxLim, label=\"exact\")\n",
      "hdl = plt.scatter(laTraditional.real, laTraditional.imag, s=100, c=deltaTraditional, marker='x', facecolors='none', linewidth='3', vmin=minLim, vmax=maxLim, label=\"traditional\")\n",
      "hdl = plt.scatter(laPOD.real, laPOD.imag, s=100, c=deltaPOD, marker='o', facecolors='none', linewidth='3', vmin=minLim, vmax=maxLim, label=\"POD\")\n",
      "plt.legend(loc='upper left',numpoints=1)\n",
      "clevs = [-15, -10, -5]\n",
      "cb1 = plt.colorbar(hdl, orientation='vertical')#, ticks=clevs)\n",
      "cb1.ax.set_yticklabels(np.arange(-15,-4))# vertically oriented colorbar\n",
      "cb1.set_label('Error Exponent')\n",
      "brake.save(obj.output_path+'eigsExactTraditionalPOD'+str(obj.omegaTest/(2*math.pi)), ext=\"png\", close=False, verbose=True)\n",
      "plt.show()"
     ],
     "language": "python",
     "metadata": {},
     "outputs": [
      {
       "output_type": "stream",
       "stream": "stdout",
       "text": [
        "Saving figure to '/homes/numerik/quraishi/work/paperprojects/brake_squeel_project/ProblemData/Matrix/5kOmegaRef1/Mar05/eigsExactTraditionalPOD2.0.png'... "
       ]
      },
      {
       "output_type": "stream",
       "stream": "stdout",
       "text": [
        "Done\n"
       ]
      },
      {
       "metadata": {},
       "output_type": "display_data",
       "png": "[encoded data removed]",
       "text": [
        "<matplotlib.figure.Figure at 0x2ab7b96eba10>"
       ]
      }
     ],
     "prompt_number": 7
    },
    {
     "cell_type": "code",
     "collapsed": false,
     "input": [],
     "language": "python",
     "metadata": {},
     "outputs": [],
     "prompt_number": 8
    }
   ],
   "metadata": {}
  }
 ]
}