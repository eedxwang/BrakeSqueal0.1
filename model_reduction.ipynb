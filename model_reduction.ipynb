{
 "metadata": {
  "name": "",
  "signature": "sha256:dc7146555f64c259ff509c3c315f55c999d7ed2be07f5c92ed99a9269c8f077d"
 },
 "nbformat": 3,
 "nbformat_minor": 0,
 "worksheets": [
  {
   "cells": [
    {
     "cell_type": "code",
     "collapsed": false,
     "input": [
      "import os\n",
      "import math\n",
      "import numpy\n",
      "import timeit\n",
      "import socket\n",
      "import datetime\n",
      "from pylab import *\n",
      "import numpy.linalg as LA\n",
      "from numpy.linalg import norm\n",
      "import matplotlib.pyplot as plt\n",
      "\n",
      "#----------------------------Application Specific Imports-----------------------------------------\n",
      "import brake\n",
      "import createBrakeClassObject\n",
      "from brake.initialize import load, assemble, scale, diagscale, unlinearize\n",
      "from brake.solve import projection, traditionalProjection, solver, qevp\n",
      "from brake.analyze import residual, visual\n",
      "%matplotlib inline"
     ],
     "language": "python",
     "metadata": {},
     "outputs": [],
     "prompt_number": 1
    },
    {
     "cell_type": "code",
     "collapsed": false,
     "input": [
      "#----------------------------Create Object with no logging ---------------------------------------\n",
      "logLevel = 0\n",
      "omegaRef=1.0\n",
      "obj = createBrakeClassObject.returnObject(logLevel,omegaRef)"
     ],
     "language": "python",
     "metadata": {},
     "outputs": [
      {
       "output_type": "stream",
       "stream": "stderr",
       "text": [
        "INFO:info_logger:The current level of logging is 0\n"
       ]
      },
      {
       "output_type": "stream",
       "stream": "stderr",
       "text": [
        "INFO:info_logger:To enable detailed logging set log level to non zero during object creation:\n"
       ]
      },
      {
       "output_type": "stream",
       "stream": "stderr",
       "text": [
        "INFO:info_logger:Set log level = 10(debug mode), log level = 20(info mode)\n"
       ]
      },
      {
       "output_type": "stream",
       "stream": "stderr",
       "text": [
        "INFO:info_logger:The Info Data is logged in the file : /homes/numerik/quraishi/work/paperprojects/brake_squeel_project/ProblemData/Matrix/5kOmegaRef1/Mar10/info_Mar10.log\n"
       ]
      },
      {
       "output_type": "stream",
       "stream": "stderr",
       "text": [
        "INFO:info_logger:The Time Data is logged in the file : /homes/numerik/quraishi/work/paperprojects/brake_squeel_project/ProblemData/Matrix/5kOmegaRef1/Mar10/time_Mar10.log\n"
       ]
      },
      {
       "output_type": "stream",
       "stream": "stderr",
       "text": [
        "INFO:time_logger:The current level of logging is 0\n"
       ]
      },
      {
       "output_type": "stream",
       "stream": "stderr",
       "text": [
        "INFO:time_logger:To enable detailed logging set log level to non zero during object creation\n"
       ]
      },
      {
       "output_type": "stream",
       "stream": "stderr",
       "text": [
        "INFO:time_logger:Set log level = 10(debug mode), log level = 20(info mode)\n"
       ]
      },
      {
       "output_type": "stream",
       "stream": "stderr",
       "text": [
        "INFO:time_logger:The Info Data is logged in the file : /homes/numerik/quraishi/work/paperprojects/brake_squeel_project/ProblemData/Matrix/5kOmegaRef1/Mar10/info_Mar10.log\n"
       ]
      },
      {
       "output_type": "stream",
       "stream": "stderr",
       "text": [
        "INFO:time_logger:The Time Data is logged in the file : /homes/numerik/quraishi/work/paperprojects/brake_squeel_project/ProblemData/Matrix/5kOmegaRef1/Mar10/time_Mar10.log\n"
       ]
      },
      {
       "output_type": "stream",
       "stream": "stdout",
       "text": [
        "Working on : laplace computer\n",
        "\n",
        " Input Path: /homes/numerik/quraishi/work/paperprojects/brake_squeel_project/ProblemData/Matrix/5kOmegaRef1/\n",
        "\n",
        " Output Path: /homes/numerik/quraishi/work/paperprojects/brake_squeel_project/ProblemData/Matrix/5kOmegaRef1/\n"
       ]
      }
     ],
     "prompt_number": 2
    },
    {
     "cell_type": "code",
     "collapsed": false,
     "input": [
      "####################################################################\n",
      "####################################################################\n",
      "####################### Exact Eigenvalues ##########################\n",
      "####################################################################\n",
      "####################################################################\n",
      "\n",
      "#Calculating exact eigenpairs of the QEVP for omega = omegaTest in the target region\n",
      "#--------------------------------------------------------------------------------------------------\n",
      "print '\\n\\n----------------------------------------------------------------------------------------'\n",
      "print \"\\n\"+\"\\n\"+'Calculating exact eigenpairs of the QEVP for omega = '+str(obj.omegaTest/(2*math.pi))+' in the target region \\n'\n",
      "laExact, evecExact = qevp.brake_squeal_qevp(obj, 1, obj.omegaTest)\n",
      "#Extracting the eigenvalues and the corresponding eigenvectors that lie in the target region\n",
      "laTarget, evecTarget = brake.extractEigs(obj, laExact, evecExact, 'target')\n",
      "deltaTarget = numpy.zeros(laTarget.shape[0],dtype=numpy.float64)"
     ],
     "language": "python",
     "metadata": {},
     "outputs": [
      {
       "output_type": "stream",
       "stream": "stdout",
       "text": [
        "\n",
        "\n",
        "----------------------------------------------------------------------------------------\n",
        "\n",
        "\n",
        "Calculating exact eigenpairs of the QEVP for omega = 2.0 in the target region \n",
        "\n",
        "('Eigenvalues for shift', 1, '=', (495+20975j), ' and frequency', 1, '=', '12.57', 'are')"
       ]
      },
      {
       "output_type": "stream",
       "stream": "stdout",
       "text": [
        "\n",
        "('1.192e+02', '+', '2.626e+04', 'I')\n",
        "('7.483e+01', '+', '1.740e+04', 'I')\n",
        "('5.474e+00', '+', '4.932e+03', 'I')\n",
        "('5.738e-01', '+', '3.638e+04', 'I')\n",
        "('9.587e-05', '+', '5.131e+03', 'I')\n",
        "('-4.333e-02', '+', '1.009e+04', 'I')\n",
        "('-1.122e+00', '+', '1.409e+03', 'I')\n",
        "('-1.433e+00', '+', '3.521e+03', 'I')\n",
        "('-1.834e+00', '+', '3.337e+03', 'I')\n",
        "('-1.913e+00', '+', '1.634e+04', 'I')\n",
        "('-2.367e+00', '+', '4.038e+03', 'I')\n",
        "('-3.983e+00', '+', '3.919e+04', 'I')\n",
        "('-6.571e+00', '+', '2.289e+04', 'I')\n",
        "('Eigenvalues for shift', 2, '=', (478+218j), ' and frequency', 1, '=', '12.57', 'are')"
       ]
      },
      {
       "output_type": "stream",
       "stream": "stdout",
       "text": [
        "\n",
        "('1.192e+02', '+', '2.626e+04', 'I')\n",
        "('7.483e+01', '+', '1.740e+04', 'I')\n",
        "('5.474e+00', '+', '4.932e+03', 'I')\n",
        "('9.587e-05', '+', '5.131e+03', 'I')\n",
        "('-4.333e-02', '+', '1.009e+04', 'I')\n",
        "('-1.122e+00', '+', '1.409e+03', 'I')\n",
        "('-1.433e+00', '+', '3.521e+03', 'I')\n",
        "('-1.834e+00', '+', '3.337e+03', 'I')\n",
        "('-1.913e+00', '+', '1.634e+04', 'I')\n",
        "('-2.367e+00', '+', '4.038e+03', 'I')\n",
        "('-6.571e+00', '+', '2.289e+04', 'I')\n",
        "('Eigenvalues for shift', 3, '=', (542+41653j), ' and frequency', 1, '=', '12.57', 'are')"
       ]
      },
      {
       "output_type": "stream",
       "stream": "stdout",
       "text": [
        "\n",
        "('5.738e-01', '+', '3.638e+04', 'I')\n",
        "('-3.983e+00', '+', '3.919e+04', 'I')\n"
       ]
      },
      {
       "metadata": {},
       "output_type": "display_data",
       "png": "[encoded data removed]",
       "text": [
        "<matplotlib.figure.Figure at 0x2b7e24b0c7d0>"
       ]
      }
     ],
     "prompt_number": 5
    },
    {
     "cell_type": "code",
     "collapsed": false,
     "input": [],
     "language": "python",
     "metadata": {},
     "outputs": []
    },
    {
     "cell_type": "code",
     "collapsed": false,
     "input": [
      "#Obtaining the original M,C,K matrices for the test omega\n",
      "sparse_list = load.load_matrices(obj)\n",
      "M_orig, C_orig, K_orig = assemble.create_MCK(obj, sparse_list, obj.omegaTest)\n",
      "fig,axes=plt.subplots(nrows=1,ncols=4)\n",
      "fignum=0\n",
      "for ax in axes:    \n",
      "    ax.spy(sparse_list[fignum])\n",
      "    fignum=fignum+1\n",
      "\n",
      "fig,axes=plt.subplots(nrows=1,ncols=4)\n",
      "for ax in axes:    \n",
      "    ax.spy(sparse_list[fignum])\n",
      "    fignum=fignum+1"
     ],
     "language": "python",
     "metadata": {},
     "outputs": [
      {
       "metadata": {},
       "output_type": "display_data",
       "png": "[encoded data removed]",
       "text": [
        "<matplotlib.figure.Figure at 0x2b7e24881cd0>"
       ]
      },
      {
       "metadata": {},
       "output_type": "display_data",
       "png": "[encoded data removed]",
       "text": [
        "<matplotlib.figure.Figure at 0x2b7e239bf390>"
       ]
      }
     ],
     "prompt_number": 4
    },
    {
     "cell_type": "code",
     "collapsed": false,
     "input": [
      "####################################################################\n",
      "####################################################################\n",
      "####################### Traditional Projection #######################\n",
      "####################################################################\n",
      "####################################################################\n",
      "print '\\n\\nObtaining the traditional projection matrix'\n",
      "la, evec = traditionalProjection.Obtain_eigs(obj,150)\n",
      "XTraditional = numpy.concatenate((evec.real,evec.imag), axis=1)\n",
      "print '\\nTraditional Projection with size of measurment matrix = '+str(XTraditional.shape)\n",
      "#Setting Dimension of the projection matrix\n",
      "obj.projectionDimension = 300\n",
      "Q, singularValues = projection.obtain_projection_matrix(obj,XTraditional)\n",
      "QT = Q.T.conjugate()\n",
      "M =  QT.dot(M_orig.dot(Q))\n",
      "C =  QT.dot(C_orig.dot(Q))\n",
      "K =  QT.dot(K_orig.dot(Q))\n",
      "print 'Projected the QEVP having dimension '+str(M_orig.shape)+' onto a smaller subspace of dimension '+str(M.shape[1])\n",
      "n = M.shape[0]\n",
      "no_of_evs = 2*n-2;\n",
      "laTraditional, evecTraditional = solver.qev_dense(obj,M,C,K,no_of_evs)\n",
      "evecTraditional = unlinearize.unlinearize_matrices(evecTraditional)\n",
      "\n",
      "#print '\\n\\n\\nCalculating Delta'\n",
      "deltaTraditional = numpy.zeros(laTraditional.shape[0],dtype=numpy.float64)\n",
      "for itr in range(0,len(laTraditional)):\n",
      "\tdeltaTraditional[itr] = numpy.min(numpy.absolute(laTraditional[itr]-laTarget))/numpy.max(numpy.absolute(laTarget))"
     ],
     "language": "python",
     "metadata": {},
     "outputs": [
      {
       "output_type": "stream",
       "stream": "stdout",
       "text": [
        "\n",
        "\n",
        "Obtaining the traditional projection matrix\n",
        "Calculating eigenpairs of the QEVP corressponding to the Traditional Projection"
       ]
      },
      {
       "output_type": "stream",
       "stream": "stdout",
       "text": [
        "\n",
        "('2.846e-09', '+', '1.409e+03', 'I')\n",
        "('2.683e-10', '+', '4.038e+03', 'I')\n",
        "('2.125e-10', '+', '3.337e+03', 'I')\n",
        "('1.284e-10', '+', '4.906e+03', 'I')\n",
        "('1.108e-10', '+', '3.521e+03', 'I')\n",
        "('8.680e-11', '+', '7.891e+03', 'I')\n",
        "('7.208e-11', '+', '1.010e+04', 'I')\n",
        "('5.451e-11', '+', '4.135e+04', 'I')\n",
        "('4.474e-11', '+', '3.919e+04', 'I')\n",
        "('2.950e-11', '+', '3.425e+04', 'I')\n",
        "('2.444e-11', '+', '3.534e+04', 'I')\n",
        "('1.745e-11', '+', '2.880e+04', 'I')\n",
        "('1.677e-11', '+', '3.845e+04', 'I')\n",
        "('1.438e-11', '+', '1.746e+04', 'I')\n",
        "('1.432e-11', '+', '2.155e+04', 'I')\n",
        "('7.333e-12', '+', '2.141e+04', 'I')\n",
        "('6.878e-12', '+', '1.023e+04', 'I')\n",
        "('4.377e-12', '+', '2.289e+04', 'I')\n",
        "('3.809e-12', '+', '1.765e+04', 'I')\n",
        "('3.354e-12', '+', '1.953e+04', 'I')\n",
        "('3.297e-12', '+', '1.744e+04', 'I')\n",
        "('2.672e-12', '+', '1.088e+04', 'I')\n",
        "('2.103e-12', '+', '2.257e+04', 'I')\n",
        "('1.478e-12', '+', '4.910e+03', 'I')\n",
        "('1.421e-12', '+', '2.696e+04', 'I')\n",
        "('1.421e-12', '+', '1.634e+04', 'I')\n",
        "('2.842e-13', '+', '5.131e+03', 'I')\n",
        "('1.137e-13', '+', '2.622e+04', 'I')\n",
        "('-3.411e-13', '+', '2.087e+04', 'I')\n",
        "('-3.013e-12', '+', '4.135e+04', 'I')\n",
        "('-3.524e-12', '+', '1.634e+04', 'I')\n",
        "('-3.638e-12', '+', '2.853e+04', 'I')\n",
        "('-3.695e-12', '+', '2.645e+04', 'I')\n",
        "('-6.310e-12', '+', '3.060e+04', 'I')\n",
        "('-8.129e-12', '+', '2.715e+04', 'I')\n",
        "('-1.199e-11', '+', '2.942e+04', 'I')\n",
        "('-1.199e-11', '+', '2.853e+04', 'I')\n",
        "('-2.018e-11', '+', '2.835e+04', 'I')\n",
        "('-2.365e-11', '+', '3.511e+04', 'I')\n",
        "('-2.416e-11', '+', '2.972e+04', 'I')\n",
        "('-4.331e-11', '+', '4.123e+04', 'I')\n",
        "('-4.906e-11', '+', '3.674e+04', 'I')\n",
        "('-4.934e-11', '+', '3.277e+04', 'I')\n",
        "('-6.736e-11', '+', '3.918e+04', 'I')\n",
        "('-7.918e-11', '+', '3.653e+04', 'I')\n",
        "('-9.607e-11', '+', '2.893e+03', 'I')\n",
        "('-9.942e-11', '+', '3.935e+04', 'I')\n",
        "('-1.078e-10', '+', '3.759e+04', 'I')\n",
        "('-1.107e-10', '+', '3.839e+04', 'I')\n",
        "('-1.316e-10', '+', '4.162e+04', 'I')\n",
        "('-2.217e-10', '+', '3.863e+04', 'I')\n",
        "('-4.279e-10', '+', '4.116e+04', 'I')\n",
        "largest real part of obtained eigenvalue =  2.84609313894e-09\n",
        "\n",
        "Traditional Projection with size of measurment matrix = (4669, 300)\n",
        "\n",
        "Extracted 300 significant singular values from 300 to obtain projection matrix of dimension (4669, 300)"
       ]
      },
      {
       "output_type": "stream",
       "stream": "stdout",
       "text": [
        "\n",
        "Projected the QEVP having dimension (4669, 4669) onto a smaller subspace of dimension 300"
       ]
      },
      {
       "output_type": "stream",
       "stream": "stdout",
       "text": [
        "\n"
       ]
      }
     ],
     "prompt_number": 6
    },
    {
     "cell_type": "code",
     "collapsed": false,
     "input": [
      "####################################################################\n",
      "####################################################################\n",
      "####################### POD Approach ###############################\n",
      "####################################################################\n",
      "####################################################################\n",
      "print '\\n\\nObtaining the POD projection matrix'\n",
      "print '\\nCreating the Measurment Matrix for wset3'\n",
      "obj.evs_per_shift = 17\n",
      "obj.omega_basis = numpy.array([1,2.5,5,7.5,10,12.5,15,17.5,20])*2*math.pi\n",
      "X_wset3 = projection.obtain_measurment_matrix(obj)\n",
      "print '\\nPOD Projection with size of measurment matrix = '+str(X_wset3.shape)\n",
      "#Setting Dimension of the projection matrix\n",
      "obj.projectionDimension = 300\n",
      "Q, singularValues = projection.obtain_projection_matrix(obj,X_wset3)\n",
      "QT = Q.T.conjugate()\n",
      "M =  QT.dot(M_orig.dot(Q))\n",
      "C =  QT.dot(C_orig.dot(Q))\n",
      "K =  QT.dot(K_orig.dot(Q))\n",
      "print 'Projected the QEVP having dimension '+str(M_orig.shape)+' onto a smaller subspace of dimension '+str(M.shape[1])\n",
      "n = M.shape[0]\n",
      "no_of_evs = 2*n-2;\n",
      "laPOD, evecPOD = solver.qev_dense(obj,M,C,K,no_of_evs)\n",
      "evecPOD = unlinearize.unlinearize_matrices(evecPOD)\n",
      "\n",
      "#print '\\n\\n\\nCalculating Delta'\n",
      "deltaPOD = numpy.zeros(laPOD.shape[0],dtype=numpy.float64)\n",
      "for itr in range(0,len(laPOD)):\n",
      "\tdeltaPOD[itr] = numpy.min(numpy.absolute(laPOD[itr]-laTarget))/numpy.max(numpy.absolute(laTarget))"
     ],
     "language": "python",
     "metadata": {},
     "outputs": [
      {
       "output_type": "stream",
       "stream": "stdout",
       "text": [
        "\n",
        "\n",
        "Obtaining the POD projection matrix\n",
        "\n",
        "Creating the Measurment Matrix for wset3\n",
        "('Eigenvalues for shift', 1, '=', (495+20975j), ' and frequency', 1, '=', '6.28', 'are')"
       ]
      },
      {
       "output_type": "stream",
       "stream": "stdout",
       "text": [
        "\n",
        "('1.103e+02', '+', '2.630e+04', 'I')\n",
        "('6.947e+01', '+', '1.743e+04', 'I')\n",
        "('-3.258e+00', '+', '1.634e+04', 'I')\n",
        "('-7.673e+00', '+', '2.289e+04', 'I')\n",
        "('Eigenvalues for shift', 2, '=', (495+11745j), ' and frequency', 1, '=', '6.28', 'are')"
       ]
      },
      {
       "output_type": "stream",
       "stream": "stdout",
       "text": [
        "\n",
        "('6.947e+01', '+', '1.743e+04', 'I')\n",
        "('2.076e+00', '+', '4.920e+03', 'I')\n",
        "('-2.397e-05', '+', '5.131e+03', 'I')\n",
        "('-1.486e+00', '+', '3.337e+03', 'I')\n",
        "('-3.258e+00', '+', '1.634e+04', 'I')\n",
        "('-3.804e+00', '+', '3.521e+03', 'I')\n",
        "('-4.146e+00', '+', '4.039e+03', 'I')\n",
        "('-9.838e+00', '+', '1.011e+04', 'I')\n",
        "('Eigenvalues for shift', 3, '=', (493+29818j), ' and frequency', 1, '=', '6.28', 'are')"
       ]
      },
      {
       "output_type": "stream",
       "stream": "stdout",
       "text": [
        "\n",
        "('1.103e+02', '+', '2.630e+04', 'I')\n",
        "('3.171e+00', '+', '3.641e+04', 'I')\n",
        "('-7.673e+00', '+', '2.289e+04', 'I')\n",
        "('Eigenvalues for shift', 4, '=', (489+41324j), ' and frequency', 1, '=', '6.28', 'are')"
       ]
      },
      {
       "output_type": "stream",
       "stream": "stdout",
       "text": [
        "\n",
        "('3.171e+00', '+', '3.641e+04', 'I')\n",
        "('-7.309e+00', '+', '3.919e+04', 'I')\n",
        "('Eigenvalues for shift', 5, '=', (476+506j), ' and frequency', 1, '=', '6.28', 'are')"
       ]
      },
      {
       "output_type": "stream",
       "stream": "stdout",
       "text": [
        "\n",
        "('2.076e+00', '+', '4.920e+03', 'I')\n",
        "('-2.397e-05', '+', '5.131e+03', 'I')\n",
        "('-1.486e+00', '+', '3.337e+03', 'I')\n",
        "('-2.120e+00', '+', '1.409e+03', 'I')\n",
        "('-3.804e+00', '+', '3.521e+03', 'I')\n",
        "('-4.146e+00', '+', '4.039e+03', 'I')\n",
        "('Eigenvalues for shift', 1, '=', (495+20975j), ' and frequency', 2, '=', '15.71', 'are')"
       ]
      },
      {
       "output_type": "stream",
       "stream": "stdout",
       "text": [
        "\n",
        "('1.222e+02', '+', '2.624e+04', 'I')\n",
        "('7.635e+01', '+', '1.739e+04', 'I')\n",
        "('-1.709e+00', '+', '1.634e+04', 'I')\n",
        "('-6.379e+00', '+', '2.289e+04', 'I')\n",
        "('Eigenvalues for shift', 2, '=', (496+1937j), ' and frequency', 2, '=', '15.71', 'are')"
       ]
      },
      {
       "output_type": "stream",
       "stream": "stdout",
       "text": [
        "\n",
        "('6.174e+00', '+', '4.938e+03', 'I')\n",
        "('1.223e-04', '+', '5.131e+03', 'I')\n",
        "('-7.957e-01', '+', '3.522e+03', 'I')\n",
        "('-9.125e-01', '+', '1.409e+03', 'I')\n",
        "('-1.985e+00', '+', '4.038e+03', 'I')\n",
        "('-2.059e+00', '+', '3.336e+03', 'I')\n",
        "('Eigenvalues for shift', 3, '=', (496+34065j), ' and frequency', 2, '=', '15.71', 'are')"
       ]
      },
      {
       "output_type": "stream",
       "stream": "stdout",
       "text": [
        "\n",
        "('5.779e-01', '+', '3.637e+04', 'I')\n",
        "('-3.818e+00', '+', '3.920e+04', 'I')\n",
        "('Eigenvalues for shift', 4, '=', (493+12704j), ' and frequency', 2, '=', '15.71', 'are')"
       ]
      },
      {
       "output_type": "stream",
       "stream": "stdout",
       "text": [
        "\n",
        "('7.635e+01', '+', '1.739e+04', 'I')\n",
        "('6.174e+00', '+', '4.938e+03', 'I')\n",
        "('2.969e+00', '+', '1.009e+04', 'I')\n",
        "('1.223e-04', '+', '5.131e+03', 'I')\n",
        "('-1.709e+00', '+', '1.634e+04', 'I')\n",
        "('-1.985e+00', '+', '4.038e+03', 'I')\n",
        "('Eigenvalues for shift', 5, '=', (495+41293j), ' and frequency', 2, '=', '15.71', 'are')"
       ]
      },
      {
       "output_type": "stream",
       "stream": "stdout",
       "text": [
        "\n",
        "('5.779e-01', '+', '3.637e+04', 'I')\n",
        "('-3.818e+00', '+', '3.920e+04', 'I')\n",
        "('Eigenvalues for shift', 1, '=', (495+20975j), ' and frequency', 3, '=', '31.42', 'are')"
       ]
      },
      {
       "output_type": "stream",
       "stream": "stdout",
       "text": [
        "\n",
        "('1.313e+02', '+', '2.616e+04', 'I')\n",
        "('7.967e+01', '+', '1.733e+04', 'I')\n",
        "('-2.538e+00', '+', '1.634e+04', 'I')\n",
        "('-6.681e+00', '+', '2.289e+04', 'I')\n",
        "('Eigenvalues for shift', 2, '=', (494+31951j), ' and frequency', 3, '=', '31.42', 'are')"
       ]
      },
      {
       "output_type": "stream",
       "stream": "stdout",
       "text": [
        "\n",
        "('1.313e+02', '+', '2.616e+04', 'I')\n",
        "('2.341e+00', '+', '3.629e+04', 'I')\n",
        "('Eigenvalues for shift', 3, '=', (495+9702j), ' and frequency', 3, '=', '31.42', 'are')"
       ]
      },
      {
       "output_type": "stream",
       "stream": "stdout",
       "text": [
        "\n",
        "('7.967e+01', '+', '1.733e+04', 'I')\n",
        "('1.053e+01', '+', '1.006e+04', 'I')\n",
        "('7.401e+00', '+', '4.967e+03', 'I')\n",
        "('1.146e+00', '+', '3.525e+03', 'I')\n",
        "('1.858e-04', '+', '5.131e+03', 'I')\n",
        "('-4.503e-01', '+', '1.409e+03', 'I')\n",
        "('-1.113e+00', '+', '4.038e+03', 'I')\n",
        "('-2.538e+00', '+', '1.634e+04', 'I')\n",
        "('-3.240e+00', '+', '3.333e+03', 'I')\n",
        "('Eigenvalues for shift', 4, '=', (497+39644j), ' and frequency', 3, '=', '31.42', 'are')"
       ]
      },
      {
       "output_type": "stream",
       "stream": "stdout",
       "text": [
        "\n",
        "('2.341e+00', '+', '3.629e+04', 'I')\n",
        "('-9.916e-01', '+', '3.922e+04', 'I')\n",
        "('Eigenvalues for shift', 5, '=', (573+391j), ' and frequency', 3, '=', '31.42', 'are')"
       ]
      },
      {
       "output_type": "stream",
       "stream": "stdout",
       "text": [
        "\n",
        "('7.401e+00', '+', '4.967e+03', 'I')\n",
        "('1.146e+00', '+', '3.525e+03', 'I')\n",
        "('1.858e-04', '+', '5.131e+03', 'I')\n",
        "('-4.503e-01', '+', '1.409e+03', 'I')\n",
        "('-1.113e+00', '+', '4.038e+03', 'I')\n",
        "('-3.240e+00', '+', '3.333e+03', 'I')\n",
        "('Eigenvalues for shift', 1, '=', (495+20975j), ' and frequency', 4, '=', '47.12', 'are')"
       ]
      },
      {
       "output_type": "stream",
       "stream": "stdout",
       "text": [
        "\n",
        "('1.356e+02', '+', '2.609e+04', 'I')\n",
        "('8.030e+01', '+', '1.727e+04', 'I')\n",
        "('-4.247e+00', '+', '1.634e+04', 'I')\n",
        "('-6.279e+00', '+', '1.633e+04', 'I')\n",
        "('-7.754e+00', '+', '2.290e+04', 'I')\n",
        "('Eigenvalues for shift', 2, '=', (495+5018j), ' and frequency', 4, '=', '47.12', 'are')"
       ]
      },
      {
       "output_type": "stream",
       "stream": "stdout",
       "text": [
        "\n",
        "('1.309e+01', '+', '1.002e+04', 'I')\n",
        "('7.618e+00', '+', '4.997e+03', 'I')\n",
        "('2.405e+00', '+', '3.530e+03', 'I')\n",
        "('2.177e-04', '+', '5.131e+03', 'I')\n",
        "('-2.499e-01', '+', '1.409e+03', 'I')\n",
        "('-7.016e-01', '+', '4.038e+03', 'I')\n",
        "('-4.329e+00', '+', '3.329e+03', 'I')\n",
        "('Eigenvalues for shift', 3, '=', (494+40877j), ' and frequency', 4, '=', '47.12', 'are')"
       ]
      },
      {
       "output_type": "stream",
       "stream": "stdout",
       "text": [
        "\n",
        "('4.517e+00', '+', '3.622e+04', 'I')\n",
        "('3.184e+00', '+', '3.925e+04', 'I')\n",
        "('-4.055e+00', '+', '4.124e+04', 'I')\n",
        "('Eigenvalues for shift', 4, '=', (484+29211j), ' and frequency', 4, '=', '47.12', 'are')"
       ]
      },
      {
       "output_type": "stream",
       "stream": "stdout",
       "text": [
        "\n",
        "('1.356e+02', '+', '2.609e+04', 'I')\n",
        "('4.517e+00', '+', '3.622e+04', 'I')\n",
        "('-7.754e+00', '+', '2.290e+04', 'I')\n",
        "('Eigenvalues for shift', 1, '=', (495+20975j), ' and frequency', 5, '=', '62.83', 'are')"
       ]
      },
      {
       "output_type": "stream",
       "stream": "stdout",
       "text": [
        "\n",
        "('1.377e+02', '+', '2.602e+04', 'I')\n",
        "('7.996e+01', '+', '1.721e+04', 'I')\n",
        "('-3.104e+00', '+', '1.635e+04', 'I')\n",
        "('-4.825e+00', '+', '1.633e+04', 'I')\n",
        "('-9.079e+00', '+', '2.290e+04', 'I')\n",
        "('Eigenvalues for shift', 2, '=', (494+10043j), ' and frequency', 5, '=', '62.83', 'are')"
       ]
      },
      {
       "output_type": "stream",
       "stream": "stdout",
       "text": [
        "\n",
        "('7.996e+01', '+', '1.721e+04', 'I')\n",
        "('1.408e+01', '+', '9.976e+03', 'I')\n",
        "('7.591e+00', '+', '5.026e+03', 'I')\n",
        "('3.357e+00', '+', '3.537e+03', 'I')\n",
        "('2.404e-04', '+', '5.131e+03', 'I')\n",
        "('-1.150e-01', '+', '1.409e+03', 'I')\n",
        "('-4.041e-01', '+', '4.039e+03', 'I')\n",
        "('-3.104e+00', '+', '1.635e+04', 'I')\n",
        "('-4.825e+00', '+', '1.633e+04', 'I')\n",
        "('-5.260e+00', '+', '3.322e+03', 'I')\n",
        "('Eigenvalues for shift', 3, '=', (494+36173j), ' and frequency', 5, '=', '62.83', 'are')"
       ]
      },
      {
       "output_type": "stream",
       "stream": "stdout",
       "text": [
        "\n",
        "('6.783e+00', '+', '3.614e+04', 'I')\n",
        "('5.679e+00', '+', '3.927e+04', 'I')\n",
        "('Eigenvalues for shift', 4, '=', (481+561j), ' and frequency', 5, '=', '62.83', 'are')"
       ]
      },
      {
       "output_type": "stream",
       "stream": "stdout",
       "text": [
        "\n",
        "('7.591e+00', '+', '5.026e+03', 'I')\n",
        "('3.357e+00', '+', '3.537e+03', 'I')\n",
        "('2.404e-04', '+', '5.131e+03', 'I')\n",
        "('-1.150e-01', '+', '1.409e+03', 'I')\n",
        "('-4.041e-01', '+', '4.039e+03', 'I')\n",
        "('-5.260e+00', '+', '3.322e+03', 'I')\n",
        "('Eigenvalues for shift', 5, '=', (657+29070j), ' and frequency', 5, '=', '62.83', 'are')"
       ]
      },
      {
       "output_type": "stream",
       "stream": "stdout",
       "text": [
        "\n",
        "('1.377e+02', '+', '2.602e+04', 'I')\n",
        "('6.783e+00', '+', '3.614e+04', 'I')\n",
        "('-9.079e+00', '+', '2.290e+04', 'I')\n",
        "('Eigenvalues for shift', 1, '=', (495+20975j), ' and frequency', 6, '=', '78.54', 'are')"
       ]
      },
      {
       "output_type": "stream",
       "stream": "stdout",
       "text": [
        "\n",
        "('1.385e+02', '+', '2.595e+04', 'I')\n",
        "('7.918e+01', '+', '1.716e+04', 'I')\n",
        "('-2.353e+00', '+', '1.635e+04', 'I')\n",
        "('-4.011e+00', '+', '1.633e+04', 'I')\n",
        "('-7.874e+00', '+', '2.845e+04', 'I')\n",
        "('Eigenvalues for shift', 2, '=', (494+3163j), ' and frequency', 6, '=', '78.54', 'are')"
       ]
      },
      {
       "output_type": "stream",
       "stream": "stdout",
       "text": [
        "\n",
        "('1.444e+01', '+', '9.934e+03', 'I')\n",
        "('7.469e+00', '+', '5.056e+03', 'I')\n",
        "('4.085e+00', '+', '3.545e+03', 'I')\n",
        "('2.564e-04', '+', '5.131e+03', 'I')\n",
        "('-6.486e-03', '+', '1.409e+03', 'I')\n",
        "('-1.504e-01', '+', '4.039e+03', 'I')\n",
        "('-6.029e+00', '+', '3.315e+03', 'I')\n",
        "('Eigenvalues for shift', 3, '=', (494+37904j), ' and frequency', 6, '=', '78.54', 'are')"
       ]
      },
      {
       "output_type": "stream",
       "stream": "stdout",
       "text": [
        "\n",
        "('9.119e+00', '+', '3.606e+04', 'I')\n",
        "('7.262e+00', '+', '3.930e+04', 'I')\n",
        "('-9.025e+00', '+', '4.116e+04', 'I')\n",
        "('Eigenvalues for shift', 4, '=', (496+11468j), ' and frequency', 6, '=', '78.54', 'are')"
       ]
      },
      {
       "output_type": "stream",
       "stream": "stdout",
       "text": [
        "\n",
        "('7.918e+01', '+', '1.716e+04', 'I')\n",
        "('1.444e+01', '+', '9.934e+03', 'I')\n",
        "('7.469e+00', '+', '5.056e+03', 'I')\n",
        "('4.085e+00', '+', '3.545e+03', 'I')\n",
        "('2.564e-04', '+', '5.131e+03', 'I')\n",
        "('-1.504e-01', '+', '4.039e+03', 'I')\n",
        "('-2.353e+00', '+', '1.635e+04', 'I')\n",
        "('-4.011e+00', '+', '1.633e+04', 'I')\n",
        "('-6.029e+00', '+', '3.315e+03', 'I')\n",
        "('Eigenvalues for shift', 5, '=', (543+29292j), ' and frequency', 6, '=', '78.54', 'are')"
       ]
      },
      {
       "output_type": "stream",
       "stream": "stdout",
       "text": [
        "\n",
        "('1.385e+02', '+', '2.595e+04', 'I')\n",
        "('9.119e+00', '+', '3.606e+04', 'I')\n",
        "('-7.874e+00', '+', '2.845e+04', 'I')\n",
        "('-9.244e+00', '+', '2.862e+04', 'I')\n",
        "('Eigenvalues for shift', 1, '=', (495+20975j), ' and frequency', 7, '=', '94.25', 'are')"
       ]
      },
      {
       "output_type": "stream",
       "stream": "stdout",
       "text": [
        "\n",
        "('1.386e+02', '+', '2.588e+04', 'I')\n",
        "('7.820e+01', '+', '1.710e+04', 'I')\n",
        "('-1.844e+00', '+', '1.635e+04', 'I')\n",
        "('-3.475e+00', '+', '1.633e+04', 'I')\n",
        "('-6.397e+00', '+', '2.843e+04', 'I')\n",
        "('Eigenvalues for shift', 2, '=', (495+39802j), ' and frequency', 7, '=', '94.25', 'are')"
       ]
      },
      {
       "output_type": "stream",
       "stream": "stdout",
       "text": [
        "\n",
        "('1.149e+01', '+', '3.599e+04', 'I')\n",
        "('8.350e+00', '+', '3.932e+04', 'I')\n",
        "('-6.242e+00', '+', '4.112e+04', 'I')\n",
        "('Eigenvalues for shift', 3, '=', (496+9930j), ' and frequency', 7, '=', '94.25', 'are')"
       ]
      },
      {
       "output_type": "stream",
       "stream": "stdout",
       "text": [
        "\n",
        "('7.820e+01', '+', '1.710e+04', 'I')\n",
        "('1.451e+01', '+', '9.892e+03', 'I')\n",
        "('7.299e+00', '+', '5.086e+03', 'I')\n",
        "('4.638e+00', '+', '3.554e+03', 'I')\n",
        "('8.896e-02', '+', '1.409e+03', 'I')\n",
        "('8.346e-02', '+', '4.039e+03', 'I')\n",
        "('2.607e-04', '+', '5.131e+03', 'I')\n",
        "('-1.844e+00', '+', '1.635e+04', 'I')\n",
        "('-3.475e+00', '+', '1.633e+04', 'I')\n",
        "('-6.652e+00', '+', '3.306e+03', 'I')\n",
        "('Eigenvalues for shift', 4, '=', (493+30874j), ' and frequency', 7, '=', '94.25', 'are')"
       ]
      },
      {
       "output_type": "stream",
       "stream": "stdout",
       "text": [
        "\n",
        "('1.386e+02', '+', '2.588e+04', 'I')\n",
        "('1.149e+01', '+', '3.599e+04', 'I')\n",
        "('-6.397e+00', '+', '2.843e+04', 'I')\n",
        "('-7.930e+00', '+', '2.864e+04', 'I')\n",
        "('Eigenvalues for shift', 5, '=', (368+331j), ' and frequency', 7, '=', '94.25', 'are')"
       ]
      },
      {
       "output_type": "stream",
       "stream": "stdout",
       "text": [
        "\n",
        "('7.299e+00', '+', '5.086e+03', 'I')\n",
        "('4.638e+00', '+', '3.554e+03', 'I')\n",
        "('8.896e-02', '+', '1.409e+03', 'I')\n",
        "('8.346e-02', '+', '4.039e+03', 'I')\n",
        "('2.607e-04', '+', '5.131e+03', 'I')\n",
        "('-6.652e+00', '+', '3.306e+03', 'I')\n",
        "('Eigenvalues for shift', 1, '=', (495+20975j), ' and frequency', 8, '=', '109.96', 'are')"
       ]
      },
      {
       "output_type": "stream",
       "stream": "stdout",
       "text": [
        "\n",
        "('1.383e+02', '+', '2.581e+04', 'I')\n",
        "('7.711e+01', '+', '1.704e+04', 'I')\n",
        "('-1.478e+00', '+', '1.635e+04', 'I')\n",
        "('-3.095e+00', '+', '1.632e+04', 'I')\n",
        "('-5.329e+00', '+', '2.841e+04', 'I')\n",
        "('Eigenvalues for shift', 2, '=', (495+34109j), ' and frequency', 8, '=', '109.96', 'are')"
       ]
      },
      {
       "output_type": "stream",
       "stream": "stdout",
       "text": [
        "\n",
        "('1.386e+01', '+', '3.591e+04', 'I')\n",
        "('9.142e+00', '+', '3.935e+04', 'I')\n",
        "('-5.329e+00', '+', '2.841e+04', 'I')\n",
        "('-6.977e+00', '+', '2.866e+04', 'I')\n",
        "('Eigenvalues for shift', 3, '=', (497+466j), ' and frequency', 8, '=', '109.96', 'are')"
       ]
      },
      {
       "output_type": "stream",
       "stream": "stdout",
       "text": [
        "\n",
        "('7.104e+00', '+', '5.116e+03', 'I')\n",
        "('5.051e+00', '+', '3.565e+03', 'I')\n",
        "('3.080e-01', '+', '4.039e+03', 'I')\n",
        "('1.769e-01', '+', '1.409e+03', 'I')\n",
        "('2.131e-04', '+', '5.131e+03', 'I')\n",
        "('-7.154e+00', '+', '3.297e+03', 'I')\n",
        "('Eigenvalues for shift', 4, '=', (493+8933j), ' and frequency', 8, '=', '109.96', 'are')"
       ]
      },
      {
       "output_type": "stream",
       "stream": "stdout",
       "text": [
        "\n",
        "('7.711e+01', '+', '1.704e+04', 'I')\n",
        "('1.443e+01', '+', '9.849e+03', 'I')\n",
        "('7.104e+00', '+', '5.116e+03', 'I')\n",
        "('5.051e+00', '+', '3.565e+03', 'I')\n",
        "('3.080e-01', '+', '4.039e+03', 'I')\n",
        "('1.769e-01', '+', '1.409e+03', 'I')\n",
        "('2.131e-04', '+', '5.131e+03', 'I')\n",
        "('-1.478e+00', '+', '1.635e+04', 'I')\n",
        "('-3.095e+00', '+', '1.632e+04', 'I')\n",
        "('-7.154e+00', '+', '3.297e+03', 'I')\n",
        "('Eigenvalues for shift', 5, '=', (478+41250j), ' and frequency', 8, '=', '109.96', 'are')"
       ]
      },
      {
       "output_type": "stream",
       "stream": "stdout",
       "text": [
        "\n",
        "('1.386e+01', '+', '3.591e+04', 'I')\n",
        "('9.142e+00', '+', '3.935e+04', 'I')\n",
        "('-4.561e+00', '+', '4.108e+04', 'I')\n",
        "('Eigenvalues for shift', 1, '=', (495+20975j), ' and frequency', 9, '=', '125.66', 'are')"
       ]
      },
      {
       "output_type": "stream",
       "stream": "stdout",
       "text": [
        "\n",
        "('1.376e+02', '+', '2.574e+04', 'I')\n",
        "('7.599e+01', '+', '1.698e+04', 'I')\n",
        "('-1.203e+00', '+', '1.636e+04', 'I')\n",
        "('-2.810e+00', '+', '1.632e+04', 'I')\n",
        "('-4.520e+00', '+', '2.840e+04', 'I')\n",
        "('Eigenvalues for shift', 2, '=', (496+11665j), ' and frequency', 9, '=', '125.66', 'are')"
       ]
      },
      {
       "output_type": "stream",
       "stream": "stdout",
       "text": [
        "\n",
        "('7.599e+01', '+', '1.698e+04', 'I')\n",
        "('1.426e+01', '+', '9.806e+03', 'I')\n",
        "('6.892e+00', '+', '5.146e+03', 'I')\n",
        "('5.354e+00', '+', '3.575e+03', 'I')\n",
        "('5.290e-01', '+', '4.039e+03', 'I')\n",
        "('4.790e-04', '+', '5.131e+03', 'I')\n",
        "('-1.203e+00', '+', '1.636e+04', 'I')\n",
        "('-2.810e+00', '+', '1.632e+04', 'I')\n",
        "('-7.557e+00', '+', '3.287e+03', 'I')\n",
        "('Eigenvalues for shift', 3, '=', (494+31027j), ' and frequency', 9, '=', '125.66', 'are')"
       ]
      },
      {
       "output_type": "stream",
       "stream": "stdout",
       "text": [
        "\n",
        "('1.376e+02', '+', '2.574e+04', 'I')\n",
        "('1.619e+01', '+', '3.583e+04', 'I')\n",
        "('-4.520e+00', '+', '2.840e+04', 'I')\n",
        "('-6.255e+00', '+', '2.867e+04', 'I')\n",
        "('Eigenvalues for shift', 4, '=', (506+977j), ' and frequency', 9, '=', '125.66', 'are')"
       ]
      },
      {
       "output_type": "stream",
       "stream": "stdout",
       "text": [
        "\n",
        "('6.892e+00', '+', '5.146e+03', 'I')\n",
        "('5.354e+00', '+', '3.575e+03', 'I')\n",
        "('5.290e-01', '+', '4.039e+03', 'I')\n",
        "('2.602e-01', '+', '1.409e+03', 'I')\n",
        "('4.790e-04', '+', '5.131e+03', 'I')\n",
        "('-7.557e+00', '+', '3.287e+03', 'I')\n",
        "('Eigenvalues for shift', 5, '=', (494+39504j), ' and frequency', 9, '=', '125.66', 'are')"
       ]
      },
      {
       "output_type": "stream",
       "stream": "stdout",
       "text": [
        "\n",
        "('1.619e+01', '+', '3.583e+04', 'I')\n",
        "('9.745e+00', '+', '3.937e+04', 'I')\n",
        "('-3.405e+00', '+', '4.105e+04', 'I')\n",
        "('-9.799e+00', '+', '4.123e+04', 'I')\n",
        "\n",
        "POD Projection with size of measurment matrix = (4669, 1496)"
       ]
      },
      {
       "output_type": "stream",
       "stream": "stdout",
       "text": [
        "\n",
        "\n",
        "Extracted 300 significant singular values from 1496 to obtain projection matrix of dimension (4669, 300)"
       ]
      },
      {
       "output_type": "stream",
       "stream": "stdout",
       "text": [
        "\n",
        "Projected the QEVP having dimension (4669, 4669) onto a smaller subspace of dimension 300"
       ]
      },
      {
       "output_type": "stream",
       "stream": "stdout",
       "text": [
        "\n"
       ]
      },
      {
       "metadata": {},
       "output_type": "display_data",
       "png": "[encoded data removed]",
       "text": [
        "<matplotlib.figure.Figure at 0x2aef89d29ed0>"
       ]
      }
     ],
     "prompt_number": 7
    },
    {
     "cell_type": "code",
     "collapsed": false,
     "input": [
      "laTarget"
     ],
     "language": "python",
     "metadata": {},
     "outputs": [
      {
       "metadata": {},
       "output_type": "pyout",
       "prompt_number": 8,
       "text": [
        "array([ -6.57088195e+00+22889.57175465j,   7.48306425e+01+17399.58775274j,\n",
        "        -1.91313267e+00+16339.22111164j,   1.19176489e+02+26257.96348711j,\n",
        "        -4.33304793e-02+10094.70737872j,   9.58720815e-05 +5130.60486524j,\n",
        "         5.47417370e+00 +4932.23886717j,  -2.36692038e+00 +4038.35452533j,\n",
        "        -1.43308514e+00 +3521.47038689j,  -1.83356496e+00 +3336.6724758j ,\n",
        "        -1.12227825e+00 +1409.16362571j,   5.73787266e-01+36380.52287926j,\n",
        "        -3.98309079e+00+39192.294302j  ,  -1.12227825e+00 +1409.16362568j,\n",
        "        -1.83356496e+00 +3336.6724758j ,  -1.43308515e+00 +3521.4703869j ,\n",
        "        -2.36692038e+00 +4038.35452532j,   5.47417370e+00 +4932.23886717j,\n",
        "         9.58716357e-05 +5130.60486524j,  -4.33304796e-02+10094.70737872j,\n",
        "        -1.91313267e+00+16339.22111164j,   7.48306425e+01+17399.58775274j,\n",
        "        -6.57088195e+00+22889.57175465j,   1.19176489e+02+26257.96348711j,\n",
        "        -3.98309079e+00+39192.294302j  ,   5.73787265e-01+36380.52287926j])"
       ]
      }
     ],
     "prompt_number": 8
    },
    {
     "cell_type": "code",
     "collapsed": false,
     "input": [
      "fig = plt.figure(figsize=(16.0, 10.0))\n",
      "ax = plt.gca()\n",
      "minLim = min(deltaPOD)\n",
      "maxLim = pow(10,-5)\n",
      "xWidth = max(laTarget.real)-min(laTarget.real)\n",
      "yWidth = max(laTarget.imag)-min(laTarget.imag)\n",
      "ax.set_xlim((min(laTarget.real)-0.1*xWidth,max(laTarget.real)+0.1*xWidth))\n",
      "ax.set_ylim((min(laTarget.imag)-0.1*yWidth,max(laTarget.imag)+0.1*yWidth))\n",
      "plt.axhline(0, color='blue')\n",
      "plt.axvline(0, color='blue')\n",
      "hdl = plt.scatter(laTarget.real, laTarget.imag, s=10, c=deltaTarget, marker='o', vmin=minLim, vmax=maxLim, label=\"exact\")\n",
      "hdl = plt.scatter(laTraditional.real, laTraditional.imag, s=100, c=deltaTraditional, marker='x', facecolors='none', linewidth='3', vmin=minLim, vmax=maxLim, label=\"traditional\")\n",
      "hdl = plt.scatter(laPOD.real, laPOD.imag, s=100, c=deltaPOD, marker='o', facecolors='none', linewidth='3', vmin=minLim, vmax=maxLim, label=\"POD\")\n",
      "plt.legend(loc='upper left',numpoints=1)\n",
      "clevs = [-15, -10, -5]\n",
      "cb1 = plt.colorbar(hdl, orientation='vertical')#, ticks=clevs)\n",
      "cb1.ax.set_yticklabels(np.arange(-15,-4))# vertically oriented colorbar\n",
      "cb1.set_label('Error Exponent')\n",
      "brake.save(obj.output_path+'eigsExactTraditionalPOD'+str(obj.omegaTest/(2*math.pi)), ext=\"png\", close=False, verbose=True)\n",
      "plt.show()"
     ],
     "language": "python",
     "metadata": {},
     "outputs": [
      {
       "output_type": "stream",
       "stream": "stdout",
       "text": [
        "Saving figure to '/homes/numerik/quraishi/work/paperprojects/brake_squeel_project/ProblemData/Matrix/5kOmegaRef1/Mar05/eigsExactTraditionalPOD2.0.png'... "
       ]
      },
      {
       "output_type": "stream",
       "stream": "stdout",
       "text": [
        "Done\n"
       ]
      },
      {
       "metadata": {},
       "output_type": "display_data",
       "png": "[encoded data removed]",
       "text": [
        "<matplotlib.figure.Figure at 0x2aef8a50fe50>"
       ]
      }
     ],
     "prompt_number": 9
    },
    {
     "cell_type": "code",
     "collapsed": false,
     "input": [],
     "language": "python",
     "metadata": {},
     "outputs": []
    }
   ],
   "metadata": {}
  }
 ]
}