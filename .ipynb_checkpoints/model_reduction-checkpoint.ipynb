{
 "metadata": {
  "name": "",
  "signature": "sha256:303af14f0283d62e7b3de57c7f52cc3c56d910ed7bb432481f08c69152a2adc4"
 },
 "nbformat": 3,
 "nbformat_minor": 0,
 "worksheets": [
  {
   "cells": [
    {
     "cell_type": "code",
     "collapsed": false,
     "input": [
      "import os\n",
      "import math\n",
      "import numpy\n",
      "import timeit\n",
      "import socket\n",
      "import datetime\n",
      "from pylab import *\n",
      "import numpy.linalg as LA\n",
      "from numpy.linalg import norm\n",
      "import matplotlib.pyplot as plt\n",
      "\n",
      "#----------------------------Application Specific Imports-----------------------------------------\n",
      "import brake\n",
      "import createBrakeClassObject\n",
      "from brake.initialize import load, assemble, scale, diagscale, unlinearize\n",
      "from brake.solve import projection, traditionalProjection, solver, qevp\n",
      "from brake.analyze import residual, visual\n",
      "%matplotlib inline"
     ],
     "language": "python",
     "metadata": {},
     "outputs": [],
     "prompt_number": 1
    },
    {
     "cell_type": "code",
     "collapsed": false,
     "input": [
      "#----------------------------Create Object with no logging ---------------------------------------\n",
      "logLevel = 10\n",
      "omegaRef=1.0\n",
      "obj = createBrakeClassObject.returnObject(logLevel,omegaRef)"
     ],
     "language": "python",
     "metadata": {},
     "outputs": [
      {
       "output_type": "stream",
       "stream": "stderr",
       "text": [
        "INFO:info_logger:The current level of logging is 0\n"
       ]
      },
      {
       "output_type": "stream",
       "stream": "stderr",
       "text": [
        "INFO:info_logger:To enable detailed logging set log level to non zero during object creation:\n"
       ]
      },
      {
       "output_type": "stream",
       "stream": "stderr",
       "text": [
        "INFO:info_logger:Set log level = 10(debug mode), log level = 20(info mode)\n"
       ]
      },
      {
       "output_type": "stream",
       "stream": "stderr",
       "text": [
        "INFO:info_logger:The Info Data is logged in the file : /homes/numerik/quraishi/work/paperprojects/brake_squeel_project/ProblemData/Matrix/5kOmegaRef1/Mar05/info_Mar05.log\n"
       ]
      },
      {
       "output_type": "stream",
       "stream": "stderr",
       "text": [
        "INFO:info_logger:The Time Data is logged in the file : /homes/numerik/quraishi/work/paperprojects/brake_squeel_project/ProblemData/Matrix/5kOmegaRef1/Mar05/time_Mar05.log\n"
       ]
      },
      {
       "output_type": "stream",
       "stream": "stderr",
       "text": [
        "INFO:time_logger:The current level of logging is 0\n"
       ]
      },
      {
       "output_type": "stream",
       "stream": "stderr",
       "text": [
        "INFO:time_logger:To enable detailed logging set log level to non zero during object creation\n"
       ]
      },
      {
       "output_type": "stream",
       "stream": "stderr",
       "text": [
        "INFO:time_logger:Set log level = 10(debug mode), log level = 20(info mode)\n"
       ]
      },
      {
       "output_type": "stream",
       "stream": "stderr",
       "text": [
        "INFO:time_logger:The Info Data is logged in the file : /homes/numerik/quraishi/work/paperprojects/brake_squeel_project/ProblemData/Matrix/5kOmegaRef1/Mar05/info_Mar05.log\n"
       ]
      },
      {
       "output_type": "stream",
       "stream": "stderr",
       "text": [
        "INFO:time_logger:The Time Data is logged in the file : /homes/numerik/quraishi/work/paperprojects/brake_squeel_project/ProblemData/Matrix/5kOmegaRef1/Mar05/time_Mar05.log\n"
       ]
      },
      {
       "output_type": "stream",
       "stream": "stdout",
       "text": [
        "Working on : laplace computer\n",
        "\n",
        " Input Path: /homes/numerik/quraishi/work/paperprojects/brake_squeel_project/ProblemData/Matrix/5kOmegaRef1/\n",
        "\n",
        " Output Path: /homes/numerik/quraishi/work/paperprojects/brake_squeel_project/ProblemData/Matrix/5kOmegaRef1/\n"
       ]
      }
     ],
     "prompt_number": 2
    },
    {
     "cell_type": "code",
     "collapsed": false,
     "input": [
      "####################################################################\n",
      "####################################################################\n",
      "####################### Exact Eigenvalues ##########################\n",
      "####################################################################\n",
      "####################################################################\n",
      "\n",
      "#Calculating exact eigenpairs of the QEVP for omega = omegaTest in the target region\n",
      "#--------------------------------------------------------------------------------------------------\n",
      "print '\\n\\n----------------------------------------------------------------------------------------'\n",
      "print \"\\n\"+\"\\n\"+'Calculating exact eigenpairs of the QEVP for omega = '+str(obj.omegaTest/(2*math.pi))+' in the target region \\n'\n",
      "laExact, evecExact = qevp.brake_squeal_qevp(obj, 1, obj.omegaTest)\n",
      "#Extracting the eigenvalues and the corresponding eigenvectors that lie in the target region\n",
      "laTarget, evecTarget = brake.extractEigs(obj, laExact, evecExact, 'target')\n",
      "deltaTarget = numpy.zeros(laTarget.shape[0],dtype=numpy.float64)\n",
      "\n",
      "\n",
      "#Obtaining the original M,C,K matrices for the test omega\n",
      "sparse_list = load.load_matrices(obj)\n",
      "M_orig, C_orig, K_orig = assemble.create_MCK(obj, sparse_list, obj.omegaTest)"
     ],
     "language": "python",
     "metadata": {},
     "outputs": [
      {
       "output_type": "stream",
       "stream": "stdout",
       "text": [
        "\n",
        "\n",
        "----------------------------------------------------------------------------------------\n",
        "\n",
        "\n",
        "Calculating exact eigenpairs of the QEVP for omega = 2.0 in the target region \n",
        "\n",
        "('Eigenvalues for shift', 1, '=', (495+5975j), ' and frequency', 1, '=', '12.57', 'are')"
       ]
      },
      {
       "output_type": "stream",
       "stream": "stdout",
       "text": [
        "\n",
        "('7.683e+00', '+', '4.933e+03', 'I')\n",
        "('2.822e+00', '+', '1.010e+04', 'I')\n",
        "('-1.026e-04', '+', '5.131e+03', 'I')\n",
        "('-9.279e-01', '+', '1.409e+03', 'I')\n",
        "('-1.043e+00', '+', '3.521e+03', 'I')\n",
        "('-1.294e+00', '+', '3.337e+03', 'I')\n",
        "('-1.597e+00', '+', '4.038e+03', 'I')\n"
       ]
      },
      {
       "metadata": {},
       "output_type": "display_data",
       "png": "[encoded data removed]",
       "text": [
        "<matplotlib.figure.Figure at 0x2b205f33b050>"
       ]
      }
     ],
     "prompt_number": 3
    },
    {
     "cell_type": "code",
     "collapsed": false,
     "input": [
      "sparse_list[0]"
     ],
     "language": "python",
     "metadata": {},
     "outputs": [
      {
       "metadata": {},
       "output_type": "pyout",
       "prompt_number": 6,
       "text": [
        "<4669x4669 sparse matrix of type '<type 'numpy.float64'>'\n",
        "\twith 93207 stored elements in Compressed Sparse Column format>"
       ]
      }
     ],
     "prompt_number": 6
    },
    {
     "cell_type": "code",
     "collapsed": false,
     "input": [
      "fig,axes=plt.subplots(nrows=1,ncols=4)\n",
      "fignum=0\n",
      "for ax in axes:    \n",
      "    ax.spy(sparse_list[fignum])\n",
      "    fignum=fignum+1\n",
      "\n",
      "fig,axes=plt.subplots(nrows=1,ncols=4)\n",
      "for ax in axes:    \n",
      "    ax.spy(sparse_list[fignum])\n",
      "    fignum=fignum+1"
     ],
     "language": "python",
     "metadata": {},
     "outputs": [
      {
       "metadata": {},
       "output_type": "display_data",
       "png": "[encoded data removed]",
       "text": [
        "<matplotlib.figure.Figure at 0x2b20601472d0>"
       ]
      },
      {
       "metadata": {},
       "output_type": "display_data",
       "png": "[encoded data removed]",
       "text": [
        "<matplotlib.figure.Figure at 0x2b2060169fd0>"
       ]
      }
     ],
     "prompt_number": 27
    },
    {
     "cell_type": "code",
     "collapsed": false,
     "input": [],
     "language": "python",
     "metadata": {},
     "outputs": [],
     "prompt_number": 15
    },
    {
     "cell_type": "code",
     "collapsed": false,
     "input": [
      "####################################################################\n",
      "####################################################################\n",
      "####################### Traditional Projection #######################\n",
      "####################################################################\n",
      "####################################################################\n",
      "print '\\n\\nObtaining the traditional projection matrix'\n",
      "la, evec = traditionalProjection.Obtain_eigs(obj,150)\n",
      "XTraditional = numpy.concatenate((evec.real,evec.imag), axis=1)\n",
      "print '\\nTraditional Projection with size of measurment matrix = '+str(XTraditional.shape)\n",
      "#Setting Dimension of the projection matrix\n",
      "obj.projectionDimension = 300\n",
      "Q, singularValues = projection.obtain_projection_matrix(obj,XTraditional)\n",
      "QT = Q.T.conjugate()\n",
      "M =  QT.dot(M_orig.dot(Q))\n",
      "C =  QT.dot(C_orig.dot(Q))\n",
      "K =  QT.dot(K_orig.dot(Q))\n",
      "print 'Projected the QEVP having dimension '+str(M_orig.shape)+' onto a smaller subspace of dimension '+str(M.shape[1])\n",
      "n = M.shape[0]\n",
      "no_of_evs = 2*n-2;\n",
      "laTraditional, evecTraditional = solver.qev_dense(obj,M,C,K,no_of_evs)\n",
      "evecTraditional = unlinearize.unlinearize_matrices(evecTraditional)\n",
      "\n",
      "#print '\\n\\n\\nCalculating Delta'\n",
      "deltaTraditional = numpy.zeros(laTraditional.shape[0],dtype=numpy.float64)\n",
      "for itr in range(0,len(laTraditional)):\n",
      "\tdeltaTraditional[itr] = numpy.min(numpy.absolute(laTraditional[itr]-laTarget))/numpy.max(numpy.absolute(laTarget))"
     ],
     "language": "python",
     "metadata": {},
     "outputs": [
      {
       "output_type": "stream",
       "stream": "stdout",
       "text": [
        "\n",
        "\n",
        "Obtaining the traditional projection matrix\n",
        "Calculating eigenpairs of the QEVP corressponding to the Traditional Projection"
       ]
      },
      {
       "output_type": "stream",
       "stream": "stdout",
       "text": [
        "\n",
        "('4.275e-11', '+', '1.409e+03', 'I')\n",
        "('1.353e-11', '+', '1.088e+04', 'I')\n",
        "('1.245e-11', '+', '3.521e+03', 'I')\n",
        "('6.992e-12', '+', '3.337e+03', 'I')\n",
        "('2.728e-12', '+', '4.910e+03', 'I')\n",
        "('2.274e-12', '+', '4.906e+03', 'I')\n",
        "('1.592e-12', '+', '4.038e+03', 'I')\n",
        "('1.421e-12', '+', '5.131e+03', 'I')\n",
        "('-1.535e-12', '+', '7.891e+03', 'I')\n",
        "('-2.387e-12', '+', '1.010e+04', 'I')\n",
        "('-1.688e-11', '+', '2.893e+03', 'I')\n",
        "('-2.171e-11', '+', '1.023e+04', 'I')\n",
        "largest real part of obtained eigenvalue =  1.87833393284e-09\n",
        "\n",
        "Traditional Projection with size of measurment matrix = (4669, 300)\n",
        "\n",
        "Extracted 300 significant singular values from 300 to obtain projection matrix of dimension (4669, 300)"
       ]
      },
      {
       "output_type": "stream",
       "stream": "stdout",
       "text": [
        "\n",
        "Projected the QEVP having dimension (4669, 4669) onto a smaller subspace of dimension 300"
       ]
      },
      {
       "output_type": "stream",
       "stream": "stdout",
       "text": [
        "\n"
       ]
      }
     ],
     "prompt_number": 6
    },
    {
     "cell_type": "code",
     "collapsed": false,
     "input": [
      "####################################################################\n",
      "####################################################################\n",
      "####################### POD Approach ###############################\n",
      "####################################################################\n",
      "####################################################################\n",
      "print '\\n\\nObtaining the POD projection matrix'\n",
      "print '\\nCreating the Measurment Matrix for wset3'\n",
      "obj.evs_per_shift = 17\n",
      "obj.omega_basis = numpy.array([1,2.5,5,7.5,10,12.5,15,17.5,20])*2*math.pi\n",
      "X_wset3 = projection.obtain_measurment_matrix(obj)\n",
      "print '\\nPOD Projection with size of measurment matrix = '+str(X_wset3.shape)\n",
      "#Setting Dimension of the projection matrix\n",
      "obj.projectionDimension = 300\n",
      "Q, singularValues = projection.obtain_projection_matrix(obj,X_wset3)\n",
      "QT = Q.T.conjugate()\n",
      "M =  QT.dot(M_orig.dot(Q))\n",
      "C =  QT.dot(C_orig.dot(Q))\n",
      "K =  QT.dot(K_orig.dot(Q))\n",
      "print 'Projected the QEVP having dimension '+str(M_orig.shape)+' onto a smaller subspace of dimension '+str(M.shape[1])\n",
      "n = M.shape[0]\n",
      "no_of_evs = 2*n-2;\n",
      "laPOD, evecPOD = solver.qev_dense(obj,M,C,K,no_of_evs)\n",
      "evecPOD = unlinearize.unlinearize_matrices(evecPOD)\n",
      "\n",
      "#print '\\n\\n\\nCalculating Delta'\n",
      "deltaPOD = numpy.zeros(laPOD.shape[0],dtype=numpy.float64)\n",
      "for itr in range(0,len(laPOD)):\n",
      "\tdeltaPOD[itr] = numpy.min(numpy.absolute(laPOD[itr]-laTarget))/numpy.max(numpy.absolute(laTarget))"
     ],
     "language": "python",
     "metadata": {},
     "outputs": [
      {
       "output_type": "stream",
       "stream": "stdout",
       "text": [
        "\n",
        "\n",
        "Obtaining the POD projection matrix\n",
        "\n",
        "Creating the Measurment Matrix for wset3\n",
        "('Eigenvalues for shift', 1, '=', (495+5975j), ' and frequency', 1, '=', '6.28', 'are')"
       ]
      },
      {
       "output_type": "stream",
       "stream": "stdout",
       "text": [
        "\n",
        "('4.251e+00', '+', '4.921e+03', 'I')\n",
        "('-2.245e-04', '+', '5.131e+03', 'I')\n",
        "('-9.452e-01', '+', '3.337e+03', 'I')\n",
        "('-1.925e+00', '+', '1.409e+03', 'I')\n",
        "('-3.380e+00', '+', '4.039e+03', 'I')\n",
        "('-3.412e+00', '+', '3.521e+03', 'I')\n",
        "('-7.106e+00', '+', '1.011e+04', 'I')\n",
        "('Eigenvalues for shift', 1, '=', (495+5975j), ' and frequency', 2, '=', '15.71', 'are')"
       ]
      },
      {
       "output_type": "stream",
       "stream": "stdout",
       "text": [
        "\n",
        "('8.390e+00', '+', '4.938e+03', 'I')\n",
        "('5.948e+00', '+', '1.009e+04', 'I')\n",
        "('-7.580e-05', '+', '5.131e+03', 'I')\n",
        "('-4.054e-01', '+', '3.522e+03', 'I')\n",
        "('-7.181e-01', '+', '1.409e+03', 'I')\n",
        "('-1.215e+00', '+', '4.038e+03', 'I')\n",
        "('-1.519e+00', '+', '3.336e+03', 'I')\n",
        "('Eigenvalues for shift', 1, '=', (495+5975j), ' and frequency', 3, '=', '31.42', 'are')"
       ]
      },
      {
       "output_type": "stream",
       "stream": "stdout",
       "text": [
        "\n",
        "('1.390e+01', '+', '1.006e+04', 'I')\n",
        "('9.636e+00', '+', '4.968e+03', 'I')\n",
        "('1.540e+00', '+', '3.525e+03', 'I')\n",
        "('-1.182e-05', '+', '5.131e+03', 'I')\n",
        "('-2.558e-01', '+', '1.409e+03', 'I')\n",
        "('-3.416e-01', '+', '4.038e+03', 'I')\n",
        "('-2.704e+00', '+', '3.333e+03', 'I')\n",
        "('Eigenvalues for shift', 1, '=', (495+5975j), ' and frequency', 4, '=', '47.12', 'are')"
       ]
      },
      {
       "output_type": "stream",
       "stream": "stdout",
       "text": [
        "\n",
        "('1.663e+01', '+', '1.002e+04', 'I')\n",
        "('9.864e+00', '+', '4.997e+03', 'I')\n",
        "('2.803e+00', '+', '3.530e+03', 'I')\n",
        "('6.979e-02', '+', '4.038e+03', 'I')\n",
        "('2.041e-05', '+', '5.131e+03', 'I')\n",
        "('-5.535e-02', '+', '1.409e+03', 'I')\n",
        "('-3.799e+00', '+', '3.329e+03', 'I')\n",
        "('Eigenvalues for shift', 1, '=', (495+5975j), ' and frequency', 5, '=', '62.83', 'are')"
       ]
      },
      {
       "output_type": "stream",
       "stream": "stdout",
       "text": [
        "\n",
        "('1.768e+01', '+', '9.978e+03', 'I')\n",
        "('9.846e+00', '+', '5.026e+03', 'I')\n",
        "('3.760e+00', '+', '3.537e+03', 'I')\n",
        "('3.671e-01', '+', '4.039e+03', 'I')\n",
        "('7.947e-02', '+', '1.409e+03', 'I')\n",
        "('4.341e-05', '+', '5.131e+03', 'I')\n",
        "('-4.737e+00', '+', '3.322e+03', 'I')\n",
        "('Eigenvalues for shift', 1, '=', (495+5975j), ' and frequency', 6, '=', '78.54', 'are')"
       ]
      },
      {
       "output_type": "stream",
       "stream": "stdout",
       "text": [
        "\n",
        "('1.807e+01', '+', '9.937e+03', 'I')\n",
        "('9.731e+00', '+', '5.056e+03', 'I')\n",
        "('4.494e+00', '+', '3.545e+03', 'I')\n",
        "('6.204e-01', '+', '4.039e+03', 'I')\n",
        "('1.880e-01', '+', '1.409e+03', 'I')\n",
        "('6.002e-05', '+', '5.131e+03', 'I')\n",
        "('-5.514e+00', '+', '3.315e+03', 'I')\n",
        "('Eigenvalues for shift', 1, '=', (495+5975j), ' and frequency', 7, '=', '94.25', 'are')"
       ]
      },
      {
       "output_type": "stream",
       "stream": "stdout",
       "text": [
        "\n",
        "('1.816e+01', '+', '9.894e+03', 'I')\n",
        "('9.570e+00', '+', '5.086e+03', 'I')\n",
        "('5.053e+00', '+', '3.555e+03', 'I')\n",
        "('8.537e-01', '+', '4.039e+03', 'I')\n",
        "('2.835e-01', '+', '1.409e+03', 'I')\n",
        "('6.563e-05', '+', '5.131e+03', 'I')\n",
        "('-6.146e+00', '+', '3.306e+03', 'I')\n",
        "('Eigenvalues for shift', 1, '=', (495+5975j), ' and frequency', 8, '=', '109.96', 'are')"
       ]
      },
      {
       "output_type": "stream",
       "stream": "stdout",
       "text": [
        "\n",
        "('1.808e+01', '+', '9.851e+03', 'I')\n",
        "('9.382e+00', '+', '5.116e+03', 'I')\n",
        "('5.472e+00', '+', '3.565e+03', 'I')\n",
        "('1.078e+00', '+', '4.039e+03', 'I')\n",
        "('3.715e-01', '+', '1.409e+03', 'I')\n",
        "('2.917e-05', '+', '5.131e+03', 'I')\n",
        "('-6.656e+00', '+', '3.297e+03', 'I')\n",
        "('-9.185e+00', '+', '7.890e+03', 'I')\n",
        "('Eigenvalues for shift', 1, '=', (495+5975j), ' and frequency', 9, '=', '125.66', 'are')"
       ]
      },
      {
       "output_type": "stream",
       "stream": "stdout",
       "text": [
        "\n",
        "('1.791e+01', '+', '9.808e+03', 'I')\n",
        "('9.177e+00', '+', '5.146e+03', 'I')\n",
        "('5.780e+00', '+', '3.576e+03', 'I')\n",
        "('1.298e+00', '+', '4.039e+03', 'I')\n",
        "('4.548e-01', '+', '1.409e+03', 'I')\n",
        "('2.492e-04', '+', '5.131e+03', 'I')\n",
        "('-7.068e+00', '+', '3.287e+03', 'I')\n",
        "('-8.022e+00', '+', '7.890e+03', 'I')\n",
        "\n",
        "POD Projection with size of measurment matrix = (4669, 306)"
       ]
      },
      {
       "output_type": "stream",
       "stream": "stdout",
       "text": [
        "\n",
        "\n",
        "Extracted 300 significant singular values from 306 to obtain projection matrix of dimension (4669, 300)"
       ]
      },
      {
       "output_type": "stream",
       "stream": "stdout",
       "text": [
        "\n",
        "Projected the QEVP having dimension (4669, 4669) onto a smaller subspace of dimension 300"
       ]
      },
      {
       "output_type": "stream",
       "stream": "stdout",
       "text": [
        "\n"
       ]
      },
      {
       "metadata": {},
       "output_type": "display_data",
       "png": "[encoded data removed]",
       "text": [
        "<matplotlib.figure.Figure at 0x2abee2edf050>"
       ]
      }
     ],
     "prompt_number": 7
    },
    {
     "cell_type": "code",
     "collapsed": false,
     "input": [
      "fig = plt.figure(figsize=(16.0, 10.0))\n",
      "ax = plt.gca()\n",
      "minLim = min(deltaPOD)\n",
      "maxLim = pow(10,-5)\n",
      "xWidth = max(laTarget.real)-min(laTarget.real)\n",
      "yWidth = max(laTarget.imag)-min(laTarget.imag)\n",
      "ax.set_xlim((min(laTarget.real)-0.1*xWidth,max(laTarget.real)+0.1*xWidth))\n",
      "ax.set_ylim((min(laTarget.imag)-0.1*yWidth,max(laTarget.imag)+0.1*yWidth))\n",
      "plt.axhline(0, color='blue')\n",
      "plt.axvline(0, color='blue')\n",
      "hdl = plt.scatter(laTarget.real, laTarget.imag, s=10, c=deltaTarget, marker='o', vmin=minLim, vmax=maxLim, label=\"exact\")\n",
      "hdl = plt.scatter(laTraditional.real, laTraditional.imag, s=100, c=deltaTraditional, marker='x', facecolors='none', linewidth='3', vmin=minLim, vmax=maxLim, label=\"traditional\")\n",
      "hdl = plt.scatter(laPOD.real, laPOD.imag, s=100, c=deltaPOD, marker='o', facecolors='none', linewidth='3', vmin=minLim, vmax=maxLim, label=\"POD\")\n",
      "plt.legend(loc='upper left',numpoints=1)\n",
      "clevs = [-15, -10, -5]\n",
      "cb1 = plt.colorbar(hdl, orientation='vertical')#, ticks=clevs)\n",
      "cb1.ax.set_yticklabels(np.arange(-15,-4))# vertically oriented colorbar\n",
      "cb1.set_label('Error Exponent')\n",
      "brake.save(obj.output_path+'eigsExactTraditionalPOD'+str(obj.omegaTest/(2*math.pi)), ext=\"png\", close=False, verbose=True)\n",
      "plt.show()"
     ],
     "language": "python",
     "metadata": {},
     "outputs": [
      {
       "output_type": "stream",
       "stream": "stdout",
       "text": [
        "Saving figure to '/homes/numerik/quraishi/work/paperprojects/brake_squeel_project/ProblemData/Matrix/5kOmegaRef1/Mar05/eigsExactTraditionalPOD2.0.png'... "
       ]
      },
      {
       "output_type": "stream",
       "stream": "stdout",
       "text": [
        "Done\n"
       ]
      },
      {
       "metadata": {},
       "output_type": "display_data",
       "png": "[encoded data removed]",
       "text": [
        "<matplotlib.figure.Figure at 0x2abee3215250>"
       ]
      }
     ],
     "prompt_number": 8
    },
    {
     "cell_type": "code",
     "collapsed": false,
     "input": [],
     "language": "python",
     "metadata": {},
     "outputs": [],
     "prompt_number": 8
    }
   ],
   "metadata": {}
  }
 ]
}