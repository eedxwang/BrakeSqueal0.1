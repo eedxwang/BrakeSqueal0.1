{
 "metadata": {
  "name": "",
  "signature": "sha256:b2f698010bd934baaed2abdfd91b5ccda7d11cdef125a309843c80ec0733af8a"
 },
 "nbformat": 3,
 "nbformat_minor": 0,
 "worksheets": [
  {
   "cells": [
    {
     "cell_type": "code",
     "collapsed": false,
     "input": [
      "import os\n",
      "import math\n",
      "import numpy\n",
      "import timeit\n",
      "import socket\n",
      "import datetime\n",
      "from pylab import *\n",
      "import numpy.linalg as LA\n",
      "from numpy.linalg import norm\n",
      "import matplotlib.pyplot as plt\n",
      "\n",
      "#----------------------------Application Specific Imports-----------------------------------------\n",
      "import brake\n",
      "import createBrakeClassObject\n",
      "from brake.initialize import load, assemble, scale, diagscale, unlinearize\n",
      "from brake.solve import projection, traditionalProjection, solver, qevp\n",
      "from brake.analyze import residual, visual\n",
      "%matplotlib inline"
     ],
     "language": "python",
     "metadata": {},
     "outputs": [],
     "prompt_number": 1
    },
    {
     "cell_type": "code",
     "collapsed": false,
     "input": [
      "#----------------------------Create Object with no logging ---------------------------------------\n",
      "logLevel = 0\n",
      "omegaRef=1\n",
      "obj = createBrakeClassObject.returnObject(logLevel,omegaRef)"
     ],
     "language": "python",
     "metadata": {},
     "outputs": [
      {
       "output_type": "stream",
       "stream": "stderr",
       "text": [
        "INFO:info_logger:The current level of logging is 0\n"
       ]
      },
      {
       "output_type": "stream",
       "stream": "stderr",
       "text": [
        "INFO:info_logger:To enable detailed logging set log level to non zero during object creation:\n"
       ]
      },
      {
       "output_type": "stream",
       "stream": "stderr",
       "text": [
        "INFO:info_logger:Set log level = 10(debug mode), log level = 20(info mode)\n"
       ]
      },
      {
       "output_type": "stream",
       "stream": "stderr",
       "text": [
        "INFO:info_logger:The Info Data is logged in the file : /homes/numerik/quraishi/work/paperprojects/brake_squeel_project/ProblemData/Matrix/5kOmegaRef1/Mar03/info_Mar03.log\n"
       ]
      },
      {
       "output_type": "stream",
       "stream": "stderr",
       "text": [
        "INFO:info_logger:The Time Data is logged in the file : /homes/numerik/quraishi/work/paperprojects/brake_squeel_project/ProblemData/Matrix/5kOmegaRef1/Mar03/time_Mar03.log\n"
       ]
      },
      {
       "output_type": "stream",
       "stream": "stderr",
       "text": [
        "INFO:time_logger:The current level of logging is 0\n"
       ]
      },
      {
       "output_type": "stream",
       "stream": "stderr",
       "text": [
        "INFO:time_logger:To enable detailed logging set log level to non zero during object creation\n"
       ]
      },
      {
       "output_type": "stream",
       "stream": "stderr",
       "text": [
        "INFO:time_logger:Set log level = 10(debug mode), log level = 20(info mode)\n"
       ]
      },
      {
       "output_type": "stream",
       "stream": "stderr",
       "text": [
        "INFO:time_logger:The Info Data is logged in the file : /homes/numerik/quraishi/work/paperprojects/brake_squeel_project/ProblemData/Matrix/5kOmegaRef1/Mar03/info_Mar03.log\n"
       ]
      },
      {
       "output_type": "stream",
       "stream": "stderr",
       "text": [
        "INFO:time_logger:The Time Data is logged in the file : /homes/numerik/quraishi/work/paperprojects/brake_squeel_project/ProblemData/Matrix/5kOmegaRef1/Mar03/time_Mar03.log\n"
       ]
      },
      {
       "output_type": "stream",
       "stream": "stdout",
       "text": [
        "Working on : laplace computer\n",
        "\n",
        " Input Path: /homes/numerik/quraishi/work/paperprojects/brake_squeel_project/ProblemData/Matrix/5kOmegaRef1/\n",
        "\n",
        " Output Path: /homes/numerik/quraishi/work/paperprojects/brake_squeel_project/ProblemData/Matrix/5kOmegaRef1/\n"
       ]
      }
     ],
     "prompt_number": 2
    },
    {
     "cell_type": "code",
     "collapsed": false,
     "input": [
      "####################################################################\n",
      "####################################################################\n",
      "####################### Exact Eigenvalues ##########################\n",
      "####################################################################\n",
      "####################################################################\n",
      "\n",
      "#Calculating exact eigenpairs of the QEVP for omega = omegaTest in the target region\n",
      "#--------------------------------------------------------------------------------------------------\n",
      "print '\\n\\n----------------------------------------------------------------------------------------'\n",
      "print \"\\n\"+\"\\n\"+'Calculating exact eigenpairs of the QEVP for omega = '+str(obj.omegaTest/(2*math.pi))+' in the target region \\n'\n",
      "laExact, evecExact = qevp.brake_squeal_qevp(obj, 1, obj.omegaTest)\n",
      "#Extracting the eigenvalues and the corresponding eigenvectors that lie in the target region\n",
      "laTarget, evecTarget = brake.extractEigs(obj, laExact, evecExact, 'target')\n",
      "deltaTarget = numpy.zeros(laTarget.shape[0],dtype=numpy.float64)\n",
      "\n",
      "\n",
      "#Obtaining the original M,C,K matrices for the test omega\n",
      "sparse_list = load.load_matrices(obj)\n",
      "M_orig, C_orig, K_orig = assemble.create_MCK(obj, sparse_list, obj.omegaTest)"
     ],
     "language": "python",
     "metadata": {},
     "outputs": [
      {
       "output_type": "stream",
       "stream": "stdout",
       "text": [
        "\n",
        "\n",
        "----------------------------------------------------------------------------------------\n",
        "\n",
        "\n",
        "Calculating exact eigenpairs of the QEVP for omega = 2.0 in the target region \n",
        "\n",
        "('Eigenvalues for shift', 1, '=', (495+5975j), ' and frequency', 1, '=', '12.57', 'are')"
       ]
      },
      {
       "output_type": "stream",
       "stream": "stdout",
       "text": [
        "\n",
        "('-6.469e-04', '+', '5.131e+03', 'I')\n",
        "('-2.914e+00', '+', '3.337e+03', 'I')\n"
       ]
      },
      {
       "metadata": {},
       "output_type": "display_data",
       "png": "[encoded data removed]",
       "text": [
        "<matplotlib.figure.Figure at 0x2b3d3d663210>"
       ]
      }
     ],
     "prompt_number": 3
    },
    {
     "cell_type": "code",
     "collapsed": false,
     "input": [
      "####################################################################\n",
      "####################################################################\n",
      "####################### Traditional Projection #######################\n",
      "####################################################################\n",
      "####################################################################\n",
      "print '\\n\\nObtaining the traditional projection matrix'\n",
      "la, evec = traditionalProjection.Obtain_eigs(obj,150)\n",
      "XTraditional = numpy.concatenate((evec.real,evec.imag), axis=1)\n",
      "print '\\nTraditional Projection with size of measurment matrix = '+str(XTraditional.shape)\n",
      "#Setting Dimension of the projection matrix\n",
      "obj.projectionDimension = 300\n",
      "Q, singularValues = projection.obtain_projection_matrix(obj,XTraditional)\n",
      "QT = Q.T.conjugate()\n",
      "M =  QT.dot(M_orig.dot(Q))\n",
      "C =  QT.dot(C_orig.dot(Q))\n",
      "K =  QT.dot(K_orig.dot(Q))\n",
      "print 'Projected the QEVP having dimension '+str(M_orig.shape)+' onto a smaller subspace of dimension '+str(M.shape[1])\n",
      "n = M.shape[0]\n",
      "no_of_evs = 2*n-2;\n",
      "laTraditional, evecTraditional = solver.qev_dense(obj,M,C,K,no_of_evs)\n",
      "evecTraditional = unlinearize.unlinearize_matrices(evecTraditional)\n",
      "\n",
      "#print '\\n\\n\\nCalculating Delta'\n",
      "deltaTraditional = numpy.zeros(laTraditional.shape[0],dtype=numpy.float64)\n",
      "for itr in range(0,len(laTraditional)):\n",
      "\tdeltaTraditional[itr] = numpy.min(numpy.absolute(laTraditional[itr]-laTarget))/numpy.max(numpy.absolute(laTarget))"
     ],
     "language": "python",
     "metadata": {},
     "outputs": [
      {
       "output_type": "stream",
       "stream": "stdout",
       "text": [
        "\n",
        "\n",
        "Obtaining the traditional projection matrix\n",
        "Calculating eigenpairs of the QEVP corressponding to the Traditional Projection"
       ]
      },
      {
       "output_type": "stream",
       "stream": "stdout",
       "text": [
        "\n",
        "('1.029e-10', '+', '1.088e+04', 'I')\n",
        "('4.019e-11', '+', '1.409e+03', 'I')\n",
        "('3.166e-11', '+', '2.893e+03', 'I')\n",
        "('5.230e-12', '+', '1.010e+04', 'I')\n",
        "('4.434e-12', '+', '3.521e+03', 'I')\n",
        "('3.183e-12', '+', '5.131e+03', 'I')\n",
        "('1.819e-12', '+', '4.910e+03', 'I')\n",
        "('1.364e-12', '+', '7.891e+03', 'I')\n",
        "('1.194e-12', '+', '4.038e+03', 'I')\n",
        "('7.390e-13', '+', '4.906e+03', 'I')\n",
        "('-1.307e-12', '+', '1.023e+04', 'I')\n",
        "('-1.626e-11', '+', '3.337e+03', 'I')\n",
        "largest real part of obtained eigenvalue =  1.27590737975e-09\n",
        "\n",
        "Traditional Projection with size of measurment matrix = (4669, 300)\n",
        "\n",
        "Extracted 300 significant singular values from 300 to obtain projection matrix of dimension (4669, 300)"
       ]
      },
      {
       "output_type": "stream",
       "stream": "stdout",
       "text": [
        "\n",
        "Projected the QEVP having dimension (4669, 4669) onto a smaller subspace of dimension 300"
       ]
      },
      {
       "output_type": "stream",
       "stream": "stdout",
       "text": [
        "\n"
       ]
      }
     ],
     "prompt_number": 6
    },
    {
     "cell_type": "code",
     "collapsed": false,
     "input": [
      "####################################################################\n",
      "####################################################################\n",
      "####################### POD Approach ###############################\n",
      "####################################################################\n",
      "####################################################################\n",
      "print '\\n\\nObtaining the POD projection matrix'\n",
      "print '\\nCreating the Measurment Matrix for wset3'\n",
      "obj.evs_per_shift = 17\n",
      "obj.omega_basis = numpy.array([1,2.5,5,7.5,10,12.5,15,17.5,20])*2*math.pi\n",
      "X_wset3 = projection.obtain_measurment_matrix(obj)\n",
      "print '\\nPOD Projection with size of measurment matrix = '+str(X_wset3.shape)\n",
      "#Setting Dimension of the projection matrix\n",
      "obj.projectionDimension = 300\n",
      "Q, singularValues = projection.obtain_projection_matrix(obj,X_wset3)\n",
      "QT = Q.T.conjugate()\n",
      "M =  QT.dot(M_orig.dot(Q))\n",
      "C =  QT.dot(C_orig.dot(Q))\n",
      "K =  QT.dot(K_orig.dot(Q))\n",
      "print 'Projected the QEVP having dimension '+str(M_orig.shape)+' onto a smaller subspace of dimension '+str(M.shape[1])\n",
      "n = M.shape[0]\n",
      "no_of_evs = 2*n-2;\n",
      "laPOD, evecPOD = solver.qev_dense(obj,M,C,K,no_of_evs)\n",
      "evecPOD = unlinearize.unlinearize_matrices(evecPOD)\n",
      "\n",
      "#print '\\n\\n\\nCalculating Delta'\n",
      "deltaPOD = numpy.zeros(laPOD.shape[0],dtype=numpy.float64)\n",
      "for itr in range(0,len(laPOD)):\n",
      "\tdeltaPOD[itr] = numpy.min(numpy.absolute(laPOD[itr]-laTarget))/numpy.max(numpy.absolute(laTarget))"
     ],
     "language": "python",
     "metadata": {},
     "outputs": [
      {
       "output_type": "stream",
       "stream": "stdout",
       "text": [
        "\n",
        "\n",
        "Obtaining the POD projection matrix\n",
        "\n",
        "Creating the Measurment Matrix for wset3\n",
        "('Eigenvalues for shift', 1, '=', (495+5975j), ' and frequency', 1, '=', '6.28', 'are')"
       ]
      },
      {
       "output_type": "stream",
       "stream": "stdout",
       "text": [
        "\n",
        "('-8.834e-04', '+', '5.131e+03', 'I')\n",
        "('-2.462e+00', '+', '3.338e+03', 'I')\n",
        "('Eigenvalues for shift', 1, '=', (495+5975j), ' and frequency', 2, '=', '15.71', 'are')"
       ]
      },
      {
       "output_type": "stream",
       "stream": "stdout",
       "text": [
        "\n",
        "('-5.367e-04', '+', '5.131e+03', 'I')\n",
        "('-3.173e+00', '+', '3.337e+03', 'I')\n",
        "('Eigenvalues for shift', 1, '=', (495+5975j), ' and frequency', 3, '=', '31.42', 'are')"
       ]
      },
      {
       "output_type": "stream",
       "stream": "stdout",
       "text": [
        "\n",
        "('-1.036e-05', '+', '5.131e+03', 'I')\n",
        "('-4.542e+00', '+', '3.334e+03', 'I')\n",
        "('-7.085e+00', '+', '1.009e+04', 'I')\n",
        "('-9.791e+00', '+', '1.413e+03', 'I')\n",
        "('-9.799e+00', '+', '3.525e+03', 'I')\n",
        "('Eigenvalues for shift', 1, '=', (495+5975j), ' and frequency', 4, '=', '47.12', 'are')"
       ]
      },
      {
       "output_type": "stream",
       "stream": "stdout",
       "text": [
        "\n",
        "('4.905e-04', '+', '5.131e+03', 'I')\n",
        "('-5.879e+00', '+', '1.005e+04', 'I')\n",
        "('-5.905e+00', '+', '3.329e+03', 'I')\n",
        "('-8.487e+00', '+', '3.530e+03', 'I')\n",
        "('-9.653e+00', '+', '1.413e+03', 'I')\n",
        "('Eigenvalues for shift', 1, '=', (495+5975j), ' and frequency', 5, '=', '62.83', 'are')"
       ]
      },
      {
       "output_type": "stream",
       "stream": "stdout",
       "text": [
        "\n",
        "('9.553e-04', '+', '5.131e+03', 'I')\n",
        "('-5.638e+00', '+', '1.001e+04', 'I')\n",
        "('-7.174e+00', '+', '3.322e+03', 'I')\n",
        "('-7.284e+00', '+', '3.537e+03', 'I')\n",
        "('-9.549e+00', '+', '1.413e+03', 'I')\n",
        "('Eigenvalues for shift', 1, '=', (495+5975j), ' and frequency', 6, '=', '78.54', 'are')"
       ]
      },
      {
       "output_type": "stream",
       "stream": "stdout",
       "text": [
        "\n",
        "('1.316e-03', '+', '5.131e+03', 'I')\n",
        "('-5.742e+00', '+', '9.966e+03', 'I')\n",
        "('-6.218e+00', '+', '3.545e+03', 'I')\n",
        "('-8.311e+00', '+', '3.314e+03', 'I')\n",
        "('-9.458e+00', '+', '1.413e+03', 'I')\n",
        "('Eigenvalues for shift', 1, '=', (495+5975j), ' and frequency', 7, '=', '94.25', 'are')"
       ]
      },
      {
       "output_type": "stream",
       "stream": "stdout",
       "text": [
        "\n",
        "('1.148e-03', '+', '5.131e+03', 'I')\n",
        "('-5.291e+00', '+', '3.555e+03', 'I')\n",
        "('-5.992e+00', '+', '9.923e+03', 'I')\n",
        "('-9.306e+00', '+', '3.305e+03', 'I')\n",
        "('-9.374e+00', '+', '1.413e+03', 'I')\n",
        "('Eigenvalues for shift', 1, '=', (495+5975j), ' and frequency', 8, '=', '109.96', 'are')"
       ]
      },
      {
       "output_type": "stream",
       "stream": "stdout",
       "text": [
        "\n",
        "('-8.209e-04', '+', '5.131e+03', 'I')\n",
        "('-4.494e+00', '+', '3.565e+03', 'I')\n",
        "('-6.314e+00', '+', '9.879e+03', 'I')\n",
        "('-9.293e+00', '+', '1.413e+03', 'I')\n",
        "('Eigenvalues for shift', 1, '=', (495+5975j), ' and frequency', 9, '=', '125.66', 'are')"
       ]
      },
      {
       "output_type": "stream",
       "stream": "stdout",
       "text": [
        "\n",
        "('1.083e-03', '+', '5.131e+03', 'I')\n",
        "('-3.809e+00', '+', '3.576e+03', 'I')\n",
        "('-6.673e+00', '+', '9.836e+03', 'I')\n",
        "('-9.215e+00', '+', '1.413e+03', 'I')\n",
        "\n",
        "POD Projection with size of measurment matrix = (4669, 306)"
       ]
      },
      {
       "output_type": "stream",
       "stream": "stdout",
       "text": [
        "\n",
        "\n",
        "Extracted 300 significant singular values from 306 to obtain projection matrix of dimension (4669, 300)"
       ]
      },
      {
       "output_type": "stream",
       "stream": "stdout",
       "text": [
        "\n",
        "Projected the QEVP having dimension (4669, 4669) onto a smaller subspace of dimension 300"
       ]
      },
      {
       "output_type": "stream",
       "stream": "stdout",
       "text": [
        "\n"
       ]
      },
      {
       "metadata": {},
       "output_type": "display_data",
       "png": "[encoded data removed]",
       "text": [
        "<matplotlib.figure.Figure at 0x2b3d3d50f2d0>"
       ]
      }
     ],
     "prompt_number": 4
    },
    {
     "cell_type": "code",
     "collapsed": false,
     "input": [
      "fig = plt.figure(figsize=(16.0, 10.0))\n",
      "ax = plt.gca()\n",
      "minLim = min(deltaPOD)\n",
      "maxLim = pow(10,-5)\n",
      "xWidth = max(laTarget.real)-min(laTarget.real)\n",
      "yWidth = max(laTarget.imag)-min(laTarget.imag)\n",
      "ax.set_xlim((min(laTarget.real)-0.1*xWidth,max(laTarget.real)+0.1*xWidth))\n",
      "ax.set_ylim((min(laTarget.imag)-0.1*yWidth,max(laTarget.imag)+0.1*yWidth))\n",
      "plt.axhline(0, color='blue')\n",
      "plt.axvline(0, color='blue')\n",
      "hdl = plt.scatter(laTarget.real, laTarget.imag, s=10, c=deltaTarget, marker='o', vmin=minLim, vmax=maxLim, label=\"exact\")\n",
      "hdl = plt.scatter(laTraditional.real, laTraditional.imag, s=100, c=deltaTraditional, marker='x', facecolors='none', linewidth='3', vmin=minLim, vmax=maxLim, label=\"traditional\")\n",
      "hdl = plt.scatter(laPOD.real, laPOD.imag, s=100, c=deltaPOD, marker='o', facecolors='none', linewidth='3', vmin=minLim, vmax=maxLim, label=\"POD\")\n",
      "plt.legend(loc='upper left',numpoints=1)\n",
      "clevs = [-15, -10, -5]\n",
      "cb1 = plt.colorbar(hdl, orientation='vertical')#, ticks=clevs)\n",
      "cb1.ax.set_yticklabels(np.arange(-15,-4))# vertically oriented colorbar\n",
      "cb1.set_label('Error Exponent')\n",
      "brake.save(obj.output_path+'eigsExactTraditionalPOD'+str(obj.omegaTest/(2*math.pi)), ext=\"png\", close=False, verbose=True)\n",
      "plt.show()"
     ],
     "language": "python",
     "metadata": {},
     "outputs": [
      {
       "output_type": "stream",
       "stream": "stdout",
       "text": [
        "Saving figure to '/homes/numerik/quraishi/work/paperprojects/brake_squeel_project/ProblemData/Matrix/5kOmegaRef1/Mar03/eigsExactTraditionalPOD2.0.png'... "
       ]
      },
      {
       "output_type": "stream",
       "stream": "stdout",
       "text": [
        "Done\n"
       ]
      },
      {
       "metadata": {},
       "output_type": "display_data",
       "png": "[encoded data removed]",
       "text": [
        "<matplotlib.figure.Figure at 0x2b3d3e92c650>"
       ]
      }
     ],
     "prompt_number": 7
    },
    {
     "cell_type": "code",
     "collapsed": false,
     "input": [],
     "language": "python",
     "metadata": {},
     "outputs": []
    }
   ],
   "metadata": {}
  }
 ]
}