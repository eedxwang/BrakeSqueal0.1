{
 "metadata": {
  "name": "",
  "signature": "sha256:b05ff13ad6062e2cb3505f4aacbd348c45a9f85cd6b628f51433e2d9de1a9a0e"
 },
 "nbformat": 3,
 "nbformat_minor": 0,
 "worksheets": [
  {
   "cells": [
    {
     "cell_type": "code",
     "collapsed": false,
     "input": [
      "import numpy as np\n",
      "from scipy import sparse\n",
      "from scipy.sparse.linalg import eigs, spilu, LinearOperator, splu\n",
      "from scipy.linalg import lu_factor, lu_solve\n",
      "import pandas as pd\n",
      "import matplotlib.pyplot as plt\n",
      "from numpy import random\n",
      "import brake\n",
      "from brake.solve import solver \n",
      "from matplotlib.colors import LogNorm\n",
      "%matplotlib inline"
     ],
     "language": "python",
     "metadata": {},
     "outputs": [],
     "prompt_number": 23
    },
    {
     "cell_type": "code",
     "collapsed": false,
     "input": [
      "#generate input data for a sample input parameters\n",
      "Emin=190*10**6\n",
      "Emax=203*10**6\n",
      "E=(Emin+Emax)/2.0\n",
      "rhomin=7750\n",
      "rhomax=8050\n",
      "rho=(rhomin+rhomax)/2.0\n",
      "L=1.0"
     ],
     "language": "python",
     "metadata": {},
     "outputs": [],
     "prompt_number": 2
    },
    {
     "cell_type": "code",
     "collapsed": false,
     "input": [
      "#vary all parameters randomly with mean=0 as above and variance 0.01\n",
      "m=100\n",
      "sigma=0.01\n",
      "pset=np.array([E,rho,L])\n",
      "pset_repeat=np.reshape(np.tile(pset,m),(m,3))\n",
      "X=pset_repeat"
     ],
     "language": "python",
     "metadata": {},
     "outputs": [],
     "prompt_number": 3
    },
    {
     "cell_type": "code",
     "collapsed": false,
     "input": [
      "X[:,0]=(E+1e6*np.random.randn(1,m)).flatten()\n",
      "X[:,1]=(rho+1e-2*np.random.randn(1,m)).flatten()\n",
      "X[:,2]=(L+1e-6*np.random.randn(1,m)).flatten()"
     ],
     "language": "python",
     "metadata": {},
     "outputs": [],
     "prompt_number": 4
    },
    {
     "cell_type": "heading",
     "level": 2,
     "metadata": {},
     "source": [
      "FEM results"
     ]
    },
    {
     "cell_type": "code",
     "collapsed": false,
     "input": [
      "def gevp_dense(M,K,no_of_evs):\n",
      "    ilasquare,v = eigs(np.dot(np.linalg.inv(K),M), k=no_of_evs, M=None, sigma=None, which='LM')\n",
      "    la=np.sqrt(1./ilasquare)\n",
      "    return la, v;"
     ],
     "language": "python",
     "metadata": {},
     "outputs": [],
     "prompt_number": 68
    },
    {
     "cell_type": "code",
     "collapsed": false,
     "input": [
      "np.zeros((3,3))"
     ],
     "language": "python",
     "metadata": {},
     "outputs": [
      {
       "metadata": {},
       "output_type": "pyout",
       "prompt_number": 128,
       "text": [
        "array([[ 0.,  0.,  0.],\n",
        "       [ 0.,  0.,  0.],\n",
        "       [ 0.,  0.,  0.]])"
       ]
      }
     ],
     "prompt_number": 128
    },
    {
     "cell_type": "code",
     "collapsed": false,
     "input": [
      "def qevp_dense(M,C,K):\n",
      "    Z=np.zeros((3,3))\n",
      "    I=np.eye(3)\n",
      "    A=np.bmat([[K,Z],[Z,I]])\n",
      "    B=np.bmat([[-C,-M],[I,Z]])\n",
      "    lambdaval=np.linalg.eigvals(np.dot(A,np.linalg.inv(B)))\n",
      "    return lambdaval"
     ],
     "language": "python",
     "metadata": {},
     "outputs": [],
     "prompt_number": 140
    },
    {
     "cell_type": "code",
     "collapsed": false,
     "input": [
      "def FEmatrices(n,E,rho,L):\n",
      "    h=L/n    \n",
      "    Kp=E*np.eye(n)/h\n",
      "    #print E\n",
      "    #print Kp\n",
      "    EET=np.eye(n)-np.eye(n,k=-1)\n",
      "    EE=np.transpose(EET)\n",
      "    K=np.dot(np.dot(EE,Kp),EET)\n",
      "    M=rho*np.eye(n)*h\n",
      "    C=np.zeros((n,n))\n",
      "    return M,C,K"
     ],
     "language": "python",
     "metadata": {},
     "outputs": [],
     "prompt_number": 136
    },
    {
     "cell_type": "code",
     "collapsed": false,
     "input": [
      "def FE_discrete(k0):\n",
      "    M=np.eye(3)\n",
      "    C=1.0*np.array([[3,-1,0],[-1,-8,-7],[0,-7,7]])\n",
      "    K=1.0*np.array([[7,-4,-2],[-4,12,-5],[-2,-5,7]])\n",
      "    return M,C,K    \n",
      "    "
     ],
     "language": "python",
     "metadata": {},
     "outputs": [],
     "prompt_number": 137
    },
    {
     "cell_type": "code",
     "collapsed": false,
     "input": [
      "n=10\n",
      "L=1.0\n",
      "k0=3.0\n",
      "M,C,K=FE_discrete(k0)\n",
      "la=qevp_dense(M,C,K)\n",
      "la"
     ],
     "language": "python",
     "metadata": {},
     "outputs": [
      {
       "metadata": {},
       "output_type": "pyout",
       "prompt_number": 143,
       "text": [
        "array([ 10.12499611+0.j        ,  -8.50026818+0.j        ,\n",
        "        -1.43596952+2.23929931j,  -1.43596952-2.23929931j,\n",
        "         0.27608349+0.j        ,  -1.02887238+0.j        ])"
       ]
      }
     ],
     "prompt_number": 143
    },
    {
     "cell_type": "code",
     "collapsed": false,
     "input": [
      "qevp_dense(M,C,K)"
     ],
     "language": "python",
     "metadata": {},
     "outputs": [
      {
       "metadata": {},
       "output_type": "pyout",
       "prompt_number": 142,
       "text": [
        "array([ 10.12499611+0.j        ,  -8.50026818+0.j        ,\n",
        "        -1.43596952+2.23929931j,  -1.43596952-2.23929931j,\n",
        "         0.27608349+0.j        ,  -1.02887238+0.j        ])"
       ]
      }
     ],
     "prompt_number": 142
    },
    {
     "cell_type": "code",
     "collapsed": false,
     "input": [
      "def FEmatricesBAD(n,E,rho,L):\n",
      "    h=L/n    \n",
      "    Kp=E*np.eye(n)/h\n",
      "    EET=np.eye(n)-np.eye(n,k=-1)\n",
      "    EE=np.transpose(EET)\n",
      "    K=np.dot(np.dot(EE,Kp),EET)\n",
      "    K[-1,-1]=1.e55\n",
      "    K[-1,-2]=1.e55\n",
      "    M=rho*np.eye(n)*h\n",
      "    C=-np.zeros((n,n))\n",
      "    return M,C,K"
     ],
     "language": "python",
     "metadata": {},
     "outputs": [],
     "prompt_number": 112
    },
    {
     "cell_type": "code",
     "collapsed": false,
     "input": [
      "yex=[]\n",
      "ycalc=[]\n",
      "n=10\n",
      "for i in np.arange(m):\n",
      "    E,rho,L=X[i];\n",
      "    w1=np.pi*np.sqrt(E/rho)/2*L;\n",
      "    M,C,K=FEmatrices(n,E,rho,L)\n",
      "    la,v=gevp_dense(M,K,1)\n",
      "    w2=np.real(la)[0]\n",
      "    yex.append(w1);\n",
      "    ycalc.append(w2);"
     ],
     "language": "python",
     "metadata": {},
     "outputs": [],
     "prompt_number": 113
    },
    {
     "cell_type": "code",
     "collapsed": false,
     "input": [
      "df = pd.DataFrame(data = X)\n",
      "df.columns = ['E','rho','L']\n",
      "df['Ex_frequency'] = yex\n",
      "df['FE_frequency'] = ycalc\n",
      "df.head()"
     ],
     "language": "python",
     "metadata": {},
     "outputs": [
      {
       "html": [
        "<div style=\"max-height:1000px;max-width:1500px;overflow:auto;\">\n",
        "<table border=\"1\" class=\"dataframe\">\n",
        "  <thead>\n",
        "    <tr style=\"text-align: right;\">\n",
        "      <th></th>\n",
        "      <th>E</th>\n",
        "      <th>rho</th>\n",
        "      <th>L</th>\n",
        "      <th>Ex_frequency</th>\n",
        "      <th>FE_frequency</th>\n",
        "    </tr>\n",
        "  </thead>\n",
        "  <tbody>\n",
        "    <tr>\n",
        "      <th>0</th>\n",
        "      <td> 1.964708e+08</td>\n",
        "      <td> 7900.002221</td>\n",
        "      <td> 1.000001</td>\n",
        "      <td> 247.717083</td>\n",
        "      <td> 235.700398</td>\n",
        "    </tr>\n",
        "    <tr>\n",
        "      <th>1</th>\n",
        "      <td> 1.967436e+08</td>\n",
        "      <td> 7900.001772</td>\n",
        "      <td> 1.000000</td>\n",
        "      <td> 247.888651</td>\n",
        "      <td> 235.864286</td>\n",
        "    </tr>\n",
        "    <tr>\n",
        "      <th>2</th>\n",
        "      <td> 1.975459e+08</td>\n",
        "      <td> 7899.992865</td>\n",
        "      <td> 0.999999</td>\n",
        "      <td> 248.393349</td>\n",
        "      <td> 236.345170</td>\n",
        "    </tr>\n",
        "    <tr>\n",
        "      <th>3</th>\n",
        "      <td> 1.945532e+08</td>\n",
        "      <td> 7899.994845</td>\n",
        "      <td> 1.000000</td>\n",
        "      <td> 246.504881</td>\n",
        "      <td> 234.547900</td>\n",
        "    </tr>\n",
        "    <tr>\n",
        "      <th>4</th>\n",
        "      <td> 1.971944e+08</td>\n",
        "      <td> 7899.997820</td>\n",
        "      <td> 0.999999</td>\n",
        "      <td> 248.172360</td>\n",
        "      <td> 236.134601</td>\n",
        "    </tr>\n",
        "  </tbody>\n",
        "</table>\n",
        "</div>"
       ],
       "metadata": {},
       "output_type": "pyout",
       "prompt_number": 114,
       "text": [
        "              E          rho         L  Ex_frequency  FE_frequency\n",
        "0  1.964708e+08  7900.002221  1.000001    247.717083    235.700398\n",
        "1  1.967436e+08  7900.001772  1.000000    247.888651    235.864286\n",
        "2  1.975459e+08  7899.992865  0.999999    248.393349    236.345170\n",
        "3  1.945532e+08  7899.994845  1.000000    246.504881    234.547900\n",
        "4  1.971944e+08  7899.997820  0.999999    248.172360    236.134601"
       ]
      }
     ],
     "prompt_number": 114
    },
    {
     "cell_type": "code",
     "collapsed": false,
     "input": [
      "df['Ex_frequency'].plot()"
     ],
     "language": "python",
     "metadata": {},
     "outputs": [
      {
       "metadata": {},
       "output_type": "pyout",
       "prompt_number": 115,
       "text": [
        "<matplotlib.axes.AxesSubplot at 0x2b2dfa89e950>"
       ]
      },
      {
       "metadata": {},
       "output_type": "display_data",
       "png": "[encoded data removed]",
       "text": [
        "<matplotlib.figure.Figure at 0x2b2dfabec790>"
       ]
      }
     ],
     "prompt_number": 115
    },
    {
     "cell_type": "code",
     "collapsed": false,
     "input": [
      "df['FE_frequency'].plot()"
     ],
     "language": "python",
     "metadata": {},
     "outputs": [
      {
       "metadata": {},
       "output_type": "pyout",
       "prompt_number": 116,
       "text": [
        "<matplotlib.axes.AxesSubplot at 0x2b2dface2350>"
       ]
      },
      {
       "metadata": {},
       "output_type": "display_data",
       "png": "[encoded data removed]",
       "text": [
        "<matplotlib.figure.Figure at 0x2b2dfab774d0>"
       ]
      }
     ],
     "prompt_number": 116
    },
    {
     "cell_type": "code",
     "collapsed": false,
     "input": [
      "print df['FE_frequency'].var(), df['Ex_frequency'].var()"
     ],
     "language": "python",
     "metadata": {},
     "outputs": [
      {
       "output_type": "stream",
       "stream": "stdout",
       "text": [
        "0.355907921454 0.393149391108\n"
       ]
      }
     ],
     "prompt_number": 106
    },
    {
     "cell_type": "code",
     "collapsed": false,
     "input": [],
     "language": "python",
     "metadata": {},
     "outputs": [],
     "prompt_number": 75
    },
    {
     "cell_type": "code",
     "collapsed": false,
     "input": [
      "h=L/n    \n",
      "Kp=E*np.eye(n)/h\n",
      "EET=np.eye(n)-np.eye(n,k=-1)\n",
      "EE=np.transpose(EET)\n",
      "K=np.dot(np.dot(EE,Kp),EET)\n",
      "K[-1,-1]=1.e55\n",
      "K[-1,-2]=1.e55\n",
      "np.linalg.cond(K)"
     ],
     "language": "python",
     "metadata": {},
     "outputs": [
      {
       "metadata": {},
       "output_type": "pyout",
       "prompt_number": 109,
       "text": [
        "1.8988666601866506e+46"
       ]
      }
     ],
     "prompt_number": 109
    },
    {
     "cell_type": "code",
     "collapsed": false,
     "input": [
      "np.linalg.cond(M)"
     ],
     "language": "python",
     "metadata": {},
     "outputs": [
      {
       "metadata": {},
       "output_type": "pyout",
       "prompt_number": 110,
       "text": [
        "1.0"
       ]
      }
     ],
     "prompt_number": 110
    },
    {
     "cell_type": "code",
     "collapsed": false,
     "input": [
      "K=np.dot(np.dot(EE,Kp),EET)\n",
      "K"
     ],
     "language": "python",
     "metadata": {},
     "outputs": [
      {
       "metadata": {},
       "output_type": "pyout",
       "prompt_number": 119,
       "text": [
        "array([[  3.94072932e+09,  -1.97036466e+09,   0.00000000e+00,\n",
        "          0.00000000e+00,   0.00000000e+00,   0.00000000e+00,\n",
        "          0.00000000e+00,   0.00000000e+00,   0.00000000e+00,\n",
        "          0.00000000e+00],\n",
        "       [ -1.97036466e+09,   3.94072932e+09,  -1.97036466e+09,\n",
        "          0.00000000e+00,   0.00000000e+00,   0.00000000e+00,\n",
        "          0.00000000e+00,   0.00000000e+00,   0.00000000e+00,\n",
        "          0.00000000e+00],\n",
        "       [  0.00000000e+00,  -1.97036466e+09,   3.94072932e+09,\n",
        "         -1.97036466e+09,   0.00000000e+00,   0.00000000e+00,\n",
        "          0.00000000e+00,   0.00000000e+00,   0.00000000e+00,\n",
        "          0.00000000e+00],\n",
        "       [  0.00000000e+00,   0.00000000e+00,  -1.97036466e+09,\n",
        "          3.94072932e+09,  -1.97036466e+09,   0.00000000e+00,\n",
        "          0.00000000e+00,   0.00000000e+00,   0.00000000e+00,\n",
        "          0.00000000e+00],\n",
        "       [  0.00000000e+00,   0.00000000e+00,   0.00000000e+00,\n",
        "         -1.97036466e+09,   3.94072932e+09,  -1.97036466e+09,\n",
        "          0.00000000e+00,   0.00000000e+00,   0.00000000e+00,\n",
        "          0.00000000e+00],\n",
        "       [  0.00000000e+00,   0.00000000e+00,   0.00000000e+00,\n",
        "          0.00000000e+00,  -1.97036466e+09,   3.94072932e+09,\n",
        "         -1.97036466e+09,   0.00000000e+00,   0.00000000e+00,\n",
        "          0.00000000e+00],\n",
        "       [  0.00000000e+00,   0.00000000e+00,   0.00000000e+00,\n",
        "          0.00000000e+00,   0.00000000e+00,  -1.97036466e+09,\n",
        "          3.94072932e+09,  -1.97036466e+09,   0.00000000e+00,\n",
        "          0.00000000e+00],\n",
        "       [  0.00000000e+00,   0.00000000e+00,   0.00000000e+00,\n",
        "          0.00000000e+00,   0.00000000e+00,   0.00000000e+00,\n",
        "         -1.97036466e+09,   3.94072932e+09,  -1.97036466e+09,\n",
        "          0.00000000e+00],\n",
        "       [  0.00000000e+00,   0.00000000e+00,   0.00000000e+00,\n",
        "          0.00000000e+00,   0.00000000e+00,   0.00000000e+00,\n",
        "          0.00000000e+00,  -1.97036466e+09,   3.94072932e+09,\n",
        "         -1.97036466e+09],\n",
        "       [  0.00000000e+00,   0.00000000e+00,   0.00000000e+00,\n",
        "          0.00000000e+00,   0.00000000e+00,   0.00000000e+00,\n",
        "          0.00000000e+00,   0.00000000e+00,  -1.97036466e+09,\n",
        "          1.97036466e+09]])"
       ]
      }
     ],
     "prompt_number": 119
    },
    {
     "cell_type": "code",
     "collapsed": false,
     "input": [
      "K[-1,-1]"
     ],
     "language": "python",
     "metadata": {},
     "outputs": [
      {
       "metadata": {},
       "output_type": "pyout",
       "prompt_number": 120,
       "text": [
        "1970364658.9205661"
       ]
      }
     ],
     "prompt_number": 120
    },
    {
     "cell_type": "code",
     "collapsed": false,
     "input": [],
     "language": "python",
     "metadata": {},
     "outputs": []
    }
   ],
   "metadata": {}
  }
 ]
}